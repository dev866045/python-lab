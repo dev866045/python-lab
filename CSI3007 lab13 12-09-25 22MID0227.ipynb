{
 "cells": [
  {
   "cell_type": "code",
   "execution_count": 1,
   "id": "56f3bd91-7db8-4e0b-b166-5d9fc97dde0c",
   "metadata": {},
   "outputs": [],
   "source": [
    "#Practising numpy functions "
   ]
  },
  {
   "cell_type": "code",
   "execution_count": 2,
   "id": "90a0c838-f5c8-4fac-9c96-6246acecbbf4",
   "metadata": {},
   "outputs": [
    {
     "name": "stdout",
     "output_type": "stream",
     "text": [
      "np.array -> [1 2 3 4 5]\n"
     ]
    }
   ],
   "source": [
    "import numpy as np\n",
    "\n",
    "\n",
    "# 1. Create a NumPy array using np.array()\n",
    "arr = np.array([1, 2, 3, 4, 5])\n",
    "print(\"np.array ->\", arr)"
   ]
  },
  {
   "cell_type": "code",
   "execution_count": 3,
   "id": "725d42d9-34fd-41d9-a11a-cab38366ebe4",
   "metadata": {},
   "outputs": [
    {
     "name": "stdout",
     "output_type": "stream",
     "text": [
      "\n",
      "np.eye ->\n",
      " [[1. 0. 0. 0.]\n",
      " [0. 1. 0. 0.]\n",
      " [0. 0. 1. 0.]\n",
      " [0. 0. 0. 1.]]\n"
     ]
    }
   ],
   "source": [
    "# 2. Create an Identity Matrix using np.eye()\n",
    "eye_matrix = np.eye(4)  # 4x4 identity matrix\n",
    "print(\"\\nnp.eye ->\\n\", eye_matrix)"
   ]
  },
  {
   "cell_type": "code",
   "execution_count": 4,
   "id": "993a443a-52a0-4c27-8a2f-b1486cd17ede",
   "metadata": {},
   "outputs": [
    {
     "name": "stdout",
     "output_type": "stream",
     "text": [
      "\n",
      "np.linspace -> [ 0.   2.5  5.   7.5 10. ]\n"
     ]
    }
   ],
   "source": [
    "# 3. Create evenly spaced numbers using np.linspace()\n",
    "lin_space = np.linspace(0, 10, 5)  # 5 numbers between 0 and 10\n",
    "print(\"\\nnp.linspace ->\", lin_space)"
   ]
  },
  {
   "cell_type": "code",
   "execution_count": 5,
   "id": "91c8b857-7e99-4133-9989-f18fca612a84",
   "metadata": {},
   "outputs": [
    {
     "name": "stdout",
     "output_type": "stream",
     "text": [
      "\n",
      "np.arange -> [0 2 4 6 8]\n"
     ]
    }
   ],
   "source": [
    "# 4. Create a range of numbers using np.arange()\n",
    "arange_arr = np.arange(0, 10, 2)  # from 0 to 10 with step 2\n",
    "print(\"\\nnp.arange ->\", arange_arr)"
   ]
  },
  {
   "cell_type": "code",
   "execution_count": 6,
   "id": "d6d531db-0f7d-456a-844c-a0c717ef2f3a",
   "metadata": {},
   "outputs": [
    {
     "name": "stdout",
     "output_type": "stream",
     "text": [
      "\n",
      "np.zeros ->\n",
      " [[0. 0. 0. 0.]\n",
      " [0. 0. 0. 0.]\n",
      " [0. 0. 0. 0.]]\n"
     ]
    }
   ],
   "source": [
    "# 5. Create an array of zeros using np.zeros()\n",
    "zeros_arr = np.zeros((3, 4))  # 3x4 matrix filled with 0\n",
    "print(\"\\nnp.zeros ->\\n\", zeros_arr)"
   ]
  },
  {
   "cell_type": "code",
   "execution_count": 7,
   "id": "3d4b06f3-a78c-46ea-8b9c-e5a338a9c0c6",
   "metadata": {},
   "outputs": [
    {
     "name": "stdout",
     "output_type": "stream",
     "text": [
      "\n",
      "np.ones ->\n",
      " [[1. 1. 1. 1. 1.]\n",
      " [1. 1. 1. 1. 1.]]\n"
     ]
    }
   ],
   "source": [
    "# 6. Create an array of ones using np.ones()\n",
    "ones_arr = np.ones((2, 5))  # 2x5 matrix filled with 1\n",
    "print(\"\\nnp.ones ->\\n\", ones_arr)"
   ]
  },
  {
   "cell_type": "code",
   "execution_count": 8,
   "id": "95890c47-b6ab-460e-9a6f-e7cf11f409a2",
   "metadata": {},
   "outputs": [
    {
     "name": "stdout",
     "output_type": "stream",
     "text": [
      "\n",
      "np.full ->\n",
      " [[7 7 7]\n",
      " [7 7 7]\n",
      " [7 7 7]]\n"
     ]
    }
   ],
   "source": [
    "# 7. Create an array filled with a constant value using np.full()\n",
    "full_arr = np.full((3, 3), 7)  # 3x3 matrix filled with 7\n",
    "print(\"\\nnp.full ->\\n\", full_arr)"
   ]
  },
  {
   "cell_type": "code",
   "execution_count": 9,
   "id": "dd487358-ad1e-454b-9251-1faa0f02e3b1",
   "metadata": {},
   "outputs": [
    {
     "name": "stdout",
     "output_type": "stream",
     "text": [
      "\n",
      "np.random.rand ->\n",
      " [[0.9829506  0.04920166 0.74349517]\n",
      " [0.64933699 0.6280579  0.8577984 ]]\n"
     ]
    }
   ],
   "source": [
    "# 8. Random numbers using np.random.rand()\n",
    "rand_arr = np.random.rand(2, 3)  # 2x3 array with random floats [0,1)\n",
    "print(\"\\nnp.random.rand ->\\n\", rand_arr)\n"
   ]
  },
  {
   "cell_type": "code",
   "execution_count": 10,
   "id": "3b4b7b06-c048-465f-9696-091f0de4f7f3",
   "metadata": {},
   "outputs": [
    {
     "name": "stdout",
     "output_type": "stream",
     "text": [
      "\n",
      "np.random.randint ->\n",
      " [[66 38 82]\n",
      " [59 27 71]\n",
      " [83 84 87]]\n"
     ]
    }
   ],
   "source": [
    "# 9. Random integers using np.random.randint()\n",
    "rand_int = np.random.randint(1, 100, size=(3, 3))  # 3x3 random integers between 1 and 100\n",
    "print(\"\\nnp.random.randint ->\\n\", rand_int)"
   ]
  },
  {
   "cell_type": "code",
   "execution_count": 11,
   "id": "ac5a92de-8e36-42ef-9628-3ba54a54a822",
   "metadata": {},
   "outputs": [
    {
     "name": "stdout",
     "output_type": "stream",
     "text": [
      "\n",
      "np.indices ->\n",
      " [[[0 0 0]\n",
      "  [1 1 1]\n",
      "  [2 2 2]]\n",
      "\n",
      " [[0 1 2]\n",
      "  [0 1 2]\n",
      "  [0 1 2]]]\n"
     ]
    }
   ],
   "source": [
    "# 10. Create indices grid using np.indices()\n",
    "ind = np.indices((3, 3))  # returns grid indices\n",
    "print(\"\\nnp.indices ->\\n\", ind)"
   ]
  },
  {
   "cell_type": "code",
   "execution_count": 12,
   "id": "52341751-4eb4-48b4-84c9-9dfd070c077d",
   "metadata": {},
   "outputs": [
    {
     "name": "stdout",
     "output_type": "stream",
     "text": [
      "\n",
      "Array Attributes:\n",
      "ndim (number of dimensions): 1\n",
      "size (total number of elements): 5\n",
      "shape (rows, columns): (5,)\n"
     ]
    }
   ],
   "source": [
    "# 11. Check array attributes (ndim, size, shape)\n",
    "print(\"\\nArray Attributes:\")\n",
    "print(\"ndim (number of dimensions):\", arr.ndim)\n",
    "print(\"size (total number of elements):\", arr.size)\n",
    "print(\"shape (rows, columns):\", arr.shape)\n"
   ]
  },
  {
   "cell_type": "code",
   "execution_count": 13,
   "id": "90c918d7-942c-44e7-80d4-5e3c99686e3e",
   "metadata": {},
   "outputs": [
    {
     "name": "stdout",
     "output_type": "stream",
     "text": [
      "\n",
      "np.reshape ->\n",
      " [[ 0  1  2  3]\n",
      " [ 4  5  6  7]\n",
      " [ 8  9 10 11]]\n"
     ]
    }
   ],
   "source": [
    "# 12. Reshape an array using np.reshape()\n",
    "reshaped = np.arange(12).reshape(3, 4)  # 12 elements reshaped into 3x4\n",
    "print(\"\\nnp.reshape ->\\n\", reshaped)"
   ]
  },
  {
   "cell_type": "code",
   "execution_count": 14,
   "id": "b8cb9593-4bf2-462e-bf73-2b50174b40f1",
   "metadata": {},
   "outputs": [
    {
     "name": "stdout",
     "output_type": "stream",
     "text": [
      "\n",
      "np.transpose ->\n",
      " [[ 0  4  8]\n",
      " [ 1  5  9]\n",
      " [ 2  6 10]\n",
      " [ 3  7 11]]\n"
     ]
    }
   ],
   "source": [
    "# 13. Transpose of a matrix using np.transpose()\n",
    "transposed = reshaped.T\n",
    "print(\"\\nnp.transpose ->\\n\", transposed)"
   ]
  },
  {
   "cell_type": "code",
   "execution_count": 15,
   "id": "31aa38e3-f529-4cab-8846-2723e547cd05",
   "metadata": {},
   "outputs": [
    {
     "name": "stdout",
     "output_type": "stream",
     "text": [
      "\n",
      "Sum: 15\n",
      "Mean: 3.0\n",
      "Max: 5\n",
      "Min: 1\n",
      "Standard Deviation: 1.4142135623730951\n"
     ]
    }
   ],
   "source": [
    "# 14. Mathematical operations\n",
    "math_arr = np.array([1, 2, 3, 4, 5])\n",
    "print(\"\\nSum:\", np.sum(math_arr))\n",
    "print(\"Mean:\", np.mean(math_arr))\n",
    "print(\"Max:\", np.max(math_arr))\n",
    "print(\"Min:\", np.min(math_arr))\n",
    "print(\"Standard Deviation:\", np.std(math_arr))"
   ]
  },
  {
   "cell_type": "code",
   "execution_count": 16,
   "id": "5b7f4736-db1a-4cdb-b232-5359cdf79341",
   "metadata": {},
   "outputs": [
    {
     "name": "stdout",
     "output_type": "stream",
     "text": [
      "\n",
      "np.diag ->\n",
      " [[10  0  0]\n",
      " [ 0 20  0]\n",
      " [ 0  0 30]]\n"
     ]
    }
   ],
   "source": [
    "# 15. Create diagonal matrix using np.diag()\n",
    "diag_arr = np.diag([10, 20, 30])\n",
    "print(\"\\nnp.diag ->\\n\", diag_arr)"
   ]
  },
  {
   "cell_type": "code",
   "execution_count": 17,
   "id": "5d81a3e0-f696-4b00-a0ac-b73f8c0e1076",
   "metadata": {},
   "outputs": [
    {
     "name": "stdout",
     "output_type": "stream",
     "text": [
      "\n",
      "np.ravel (flatten) -> [ 0  1  2  3  4  5  6  7  8  9 10 11]\n"
     ]
    }
   ],
   "source": [
    "# 16. Flatten array using np.ravel()\n",
    "flat = reshaped.ravel()\n",
    "print(\"\\nnp.ravel (flatten) ->\", flat)"
   ]
  },
  {
   "cell_type": "code",
   "execution_count": 18,
   "id": "e87494a6-afe9-49aa-bec4-9bcd338ae6f3",
   "metadata": {},
   "outputs": [
    {
     "name": "stdout",
     "output_type": "stream",
     "text": [
      "\n",
      "np.sort -> [1 2 3 4 5]\n"
     ]
    }
   ],
   "source": [
    "# 17. Sorting array using np.sort()\n",
    "unsorted = np.array([3, 1, 5, 2, 4])\n",
    "sorted_arr = np.sort(unsorted)\n",
    "print(\"\\nnp.sort ->\", sorted_arr)"
   ]
  },
  {
   "cell_type": "code",
   "execution_count": 19,
   "id": "7882f9ca-708c-45b8-a45a-bbe8d7cba680",
   "metadata": {},
   "outputs": [
    {
     "name": "stdout",
     "output_type": "stream",
     "text": [
      "\n",
      "np.unique -> [1 2 3 4 5]\n"
     ]
    }
   ],
   "source": [
    "# 18. Unique values using np.unique()\n",
    "dup_arr = np.array([1, 2, 2, 3, 4, 4, 5])\n",
    "unique_vals = np.unique(dup_arr)\n",
    "print(\"\\nnp.unique ->\", unique_vals)"
   ]
  },
  {
   "cell_type": "code",
   "execution_count": null,
   "id": "43b955cb-d00b-46e7-810f-f18daf90e639",
   "metadata": {},
   "outputs": [],
   "source": []
  }
 ],
 "metadata": {
  "kernelspec": {
   "display_name": "Python 3 (ipykernel)",
   "language": "python",
   "name": "python3"
  },
  "language_info": {
   "codemirror_mode": {
    "name": "ipython",
    "version": 3
   },
   "file_extension": ".py",
   "mimetype": "text/x-python",
   "name": "python",
   "nbconvert_exporter": "python",
   "pygments_lexer": "ipython3",
   "version": "3.12.1"
  }
 },
 "nbformat": 4,
 "nbformat_minor": 5
}
