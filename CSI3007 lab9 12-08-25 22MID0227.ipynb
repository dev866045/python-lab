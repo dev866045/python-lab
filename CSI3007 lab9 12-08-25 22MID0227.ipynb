{
 "cells": [
  {
   "cell_type": "code",
   "execution_count": 21,
   "id": "58af644d-5606-43b0-9f88-449ff930c81f",
   "metadata": {},
   "outputs": [],
   "source": [
    "# Creating a simple Employee class\n",
    "class empl:\n",
    "    no_of_employee = 0   # Class variable to count employees\n",
    "    raise_amount = 1.04  # Class variable for salary raise\n",
    "\n",
    "    def __init__(self, first, last, pay):\n",
    "        self.first = first  # Instance variable\n",
    "        self.last = last\n",
    "        self.pay = pay\n",
    "        empl.no_of_employee += 1  # Increases count when new employee is created\n",
    "\n",
    "    def apply_raise(self):\n",
    "        self.pay = int(self.pay * self.raise_amount)\n",
    "empl.no_of_employee = 0\n"
   ]
  },
  {
   "cell_type": "code",
   "execution_count": 12,
   "id": "2feef983-6e33-4583-af0d-df370d8f9f9b",
   "metadata": {},
   "outputs": [],
   "source": [
    "e1 = empl(\"jacob\", \"malfoy\", 200000)"
   ]
  },
  {
   "cell_type": "code",
   "execution_count": 13,
   "id": "38dbbd43-23aa-40cc-8aeb-5366131e0cb9",
   "metadata": {},
   "outputs": [
    {
     "name": "stdout",
     "output_type": "stream",
     "text": [
      "Salary of e1: 200000\n"
     ]
    }
   ],
   "source": [
    "#Accessing salary using e1.pay\n",
    "print(\"Salary of e1:\", e1.pay)\n",
    "\n"
   ]
  },
  {
   "cell_type": "code",
   "execution_count": 14,
   "id": "1e597967-d43a-47c2-b812-dd2442fa0236",
   "metadata": {},
   "outputs": [],
   "source": [
    "# Creating an employee object\n",
    "emp1 = empl(\"Dev\", \"Nandan\", 200000)"
   ]
  },
  {
   "cell_type": "code",
   "execution_count": 3,
   "id": "9f9142af-ccc0-4501-8d6f-402cc0bdf069",
   "metadata": {},
   "outputs": [
    {
     "name": "stdout",
     "output_type": "stream",
     "text": [
      "{'first': 'Dev', 'last': 'Nandan', 'pay': 200000}\n"
     ]
    }
   ],
   "source": [
    "# shows all instance variables of emp1\n",
    "print(emp1.__dict__)"
   ]
  },
  {
   "cell_type": "code",
   "execution_count": 8,
   "id": "00eccb0f-182a-4cb9-bb5e-ccc85a5affbc",
   "metadata": {},
   "outputs": [
    {
     "name": "stdout",
     "output_type": "stream",
     "text": [
      "Class raise_amount: 1.04\n",
      "emp1 raise_amount: 1.05\n"
     ]
    }
   ],
   "source": [
    "#Changing raise_amount for just emp1 (instance variable, does not affect others)\n",
    "emp1.raise_amount = 1.05\n",
    "print(\"Class raise_amount:\", empl.raise_amount)  # This is from the class\n",
    "print(\"emp1 raise_amount:\", emp1.raise_amount)   # This is specific to emp1\n"
   ]
  },
  {
   "cell_type": "code",
   "execution_count": 24,
   "id": "c9c509ce-8d5e-4516-a823-8c332c341dcb",
   "metadata": {},
   "outputs": [
    {
     "name": "stdout",
     "output_type": "stream",
     "text": [
      "Number of employees: 3\n"
     ]
    }
   ],
   "source": [
    "# Updating number of employees\n",
    "emp2 = empl(\"Shrey\", \"Kumar\", 150000)  # New employee created\n",
    "print(\"Number of employees:\", empl.no_of_employee)"
   ]
  },
  {
   "cell_type": "code",
   "execution_count": 25,
   "id": "3fabebb6-d2db-461b-a71e-cfc6c31bffc0",
   "metadata": {},
   "outputs": [],
   "source": [
    "#Inheritance Demonstrations"
   ]
  },
  {
   "cell_type": "code",
   "execution_count": 26,
   "id": "00d6a961-652c-4ab3-8cca-50c73604a6c9",
   "metadata": {},
   "outputs": [
    {
     "name": "stdout",
     "output_type": "stream",
     "text": [
      "This animal makes a sound.\n",
      "The dog barks.\n"
     ]
    }
   ],
   "source": [
    "#basic inheritance paired with overriding the parent method\n",
    "# Parent class\n",
    "class Animal:\n",
    "    def sound(self):\n",
    "        print(\"This animal makes a sound.\")\n",
    "\n",
    "# Child class inheriting from Animal\n",
    "class Dog(Animal):\n",
    "    # Overriding the parent method\n",
    "    def sound(self):\n",
    "        print(\"The dog barks.\")\n",
    "\n",
    "# Creating objects\n",
    "a = Animal()\n",
    "d = Dog()\n",
    "\n",
    "a.sound()  # From parent class\n",
    "d.sound()  # Overridden method in child\n"
   ]
  },
  {
   "cell_type": "code",
   "execution_count": 27,
   "id": "c419c19a-2a89-4238-862f-5b246a5c91d7",
   "metadata": {},
   "outputs": [
    {
     "name": "stdout",
     "output_type": "stream",
     "text": [
      "Father's skill: Driving\n"
     ]
    }
   ],
   "source": [
    "#Multiple Inheritance\n",
    "#First parent class\n",
    "class Father:\n",
    "    def skill(self):\n",
    "        print(\"Father's skill: Driving\")\n",
    "\n",
    "# Second parent class\n",
    "class Mother:\n",
    "    def skill(self):\n",
    "        print(\"Mother's skill: Cooking\")\n",
    "\n",
    "# Child inherits from both parents\n",
    "class Child(Father, Mother):\n",
    "    pass\n",
    "\n",
    "c = Child()\n",
    "c.skill()  # Follows Method Resolution Order (MRO) → Father first\n"
   ]
  },
  {
   "cell_type": "code",
   "execution_count": 28,
   "id": "c2ab0910-a6d7-4fa1-9bae-219293017d38",
   "metadata": {},
   "outputs": [
    {
     "name": "stdout",
     "output_type": "stream",
     "text": [
      "I am the Child.\n"
     ]
    }
   ],
   "source": [
    "#Multilevel Inheritance\n",
    "#Grandparent class\n",
    "class Grandparent:\n",
    "    def show(self):\n",
    "        print(\"I am the Grandparent.\")\n",
    "\n",
    "# Parent class inherits from Grandparent\n",
    "class Parent(Grandparent):\n",
    "    def show(self):\n",
    "        print(\"I am the Parent.\")\n",
    "\n",
    "# Child class inherits from Parent\n",
    "class Child(Parent):\n",
    "    def show(self):\n",
    "        print(\"I am the Child.\")\n",
    "\n",
    "# Creating object\n",
    "c = Child()\n",
    "c.show()  # Calls Child's method (overrides all above)\n"
   ]
  },
  {
   "cell_type": "code",
   "execution_count": 30,
   "id": "18380433-cc5f-4e9b-a57f-c1b4f52f845d",
   "metadata": {},
   "outputs": [
    {
     "name": "stdout",
     "output_type": "stream",
     "text": [
      "This vehicle moves.\n",
      "I am a Car.\n",
      "This vehicle moves.\n",
      "I am a Bike.\n"
     ]
    }
   ],
   "source": [
    "#Hierarchical Inheritance\n",
    "#Parent class\n",
    "class Vehicle:\n",
    "    def move(self):\n",
    "        print(\"This vehicle moves.\")\n",
    "\n",
    "# Multiple children from the same parent\n",
    "class Car(Vehicle):\n",
    "    def type(self):\n",
    "        print(\"I am a Car.\")\n",
    "\n",
    "class Bike(Vehicle):\n",
    "    def type(self):\n",
    "        print(\"I am a Bike.\")\n",
    "\n",
    "# Creating objects\n",
    "car = Car()\n",
    "bike = Bike()\n",
    "\n",
    "car.move()\n",
    "car.type()\n",
    "\n",
    "bike.move()\n",
    "bike.type()\n"
   ]
  },
  {
   "cell_type": "code",
   "execution_count": null,
   "id": "e27f84bf-6a9d-4f10-8033-11ea24ce17e6",
   "metadata": {},
   "outputs": [],
   "source": []
  }
 ],
 "metadata": {
  "kernelspec": {
   "display_name": "Python 3 (ipykernel)",
   "language": "python",
   "name": "python3"
  },
  "language_info": {
   "codemirror_mode": {
    "name": "ipython",
    "version": 3
   },
   "file_extension": ".py",
   "mimetype": "text/x-python",
   "name": "python",
   "nbconvert_exporter": "python",
   "pygments_lexer": "ipython3",
   "version": "3.12.1"
  }
 },
 "nbformat": 4,
 "nbformat_minor": 5
}
