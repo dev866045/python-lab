{
 "cells": [
  {
   "cell_type": "code",
   "execution_count": 15,
   "id": "b4ae15a0-89c6-4213-85f0-528c0c88f773",
   "metadata": {},
   "outputs": [
    {
     "name": "stdout",
     "output_type": "stream",
     "text": [
      "example.csv created successfully using Pandas!\n"
     ]
    }
   ],
   "source": [
    "# A python code to create a small csv file using the to_csv function\n",
    "import pandas as pd\n",
    "\n",
    "# Create a dictionary with data\n",
    "data = {\n",
    "    \"sno\": [1, 2, 3, 4, 5, 6, 7, 8, 9, 10],\n",
    "    \"age\": [21, 22, 12, 34, 23, 45, 29, 39, 56, 45]\n",
    "}\n",
    "\n",
    "# Convert dictionary to DataFrame\n",
    "df = pd.DataFrame(data)\n",
    "\n",
    "# Save DataFrame as CSV\n",
    "df.to_csv(\"example.csv\", index=False)\n",
    "\n",
    "print(\"example.csv created successfully using Pandas!\")\n"
   ]
  },
  {
   "cell_type": "code",
   "execution_count": 16,
   "id": "932668c1-40ae-4226-a548-986aadd20280",
   "metadata": {},
   "outputs": [
    {
     "name": "stdout",
     "output_type": "stream",
     "text": [
      "{'sno': '1', 'age': '21'}\n",
      "{'sno': '2', 'age': '22'}\n",
      "{'sno': '3', 'age': '12'}\n",
      "{'sno': '4', 'age': '34'}\n",
      "{'sno': '5', 'age': '23'}\n",
      "{'sno': '6', 'age': '45'}\n",
      "{'sno': '7', 'age': '29'}\n",
      "{'sno': '8', 'age': '39'}\n",
      "{'sno': '9', 'age': '56'}\n",
      "{'sno': '10', 'age': '45'}\n"
     ]
    }
   ],
   "source": [
    "import csv\n",
    "\n",
    "# Open the CSV file\n",
    "with open(\"example.csv\", \"r\") as file:\n",
    "    # Use DictReader to read rows as dictionaries (column name → value)\n",
    "    reader = csv.DictReader(file)\n",
    "    \n",
    "    # Print each row as a dictionary\n",
    "    for row in reader:\n",
    "        print(row)\n"
   ]
  },
  {
   "cell_type": "code",
   "execution_count": 17,
   "id": "b460fc0e-89e2-4a81-981e-f8b8a4fc6a0c",
   "metadata": {},
   "outputs": [],
   "source": [
    "import csv\n",
    "\n",
    "# Data to be written\n",
    "rows = [\n",
    "    [\"sno\", \"age\"],\n",
    "    [1, 21],\n",
    "    [2, 22],\n",
    "    [3, 23]\n",
    "]\n",
    "\n",
    "# Create a new CSV file and write rows into it\n",
    "with open(\"new_example.csv\", \"w\", newline=\"\") as file:\n",
    "    writer = csv.writer(file)\n",
    "    writer.writerows(rows)   # Write all rows at once\n"
   ]
  },
  {
   "cell_type": "code",
   "execution_count": 18,
   "id": "05432503-9e6e-4592-b4aa-730faa844da3",
   "metadata": {},
   "outputs": [
    {
     "name": "stdout",
     "output_type": "stream",
     "text": [
      "['4', '34']\n",
      "['6', '45']\n",
      "['7', '29']\n",
      "['8', '39']\n",
      "['9', '56']\n",
      "['10', '45']\n"
     ]
    }
   ],
   "source": [
    "import csv\n",
    "\n",
    "# Open and read CSV\n",
    "with open(\"example.csv\", \"r\") as file:\n",
    "    reader = csv.reader(file)\n",
    "    next(reader)  # Skip header row\n",
    "    \n",
    "    # Print only rows where age > 25\n",
    "    for row in reader:\n",
    "        if int(row[1]) > 25:\n",
    "            print(row)\n"
   ]
  },
  {
   "cell_type": "code",
   "execution_count": 19,
   "id": "9d159f36-9fea-4a1c-9126-41a2eb97b997",
   "metadata": {},
   "outputs": [
    {
     "name": "stdout",
     "output_type": "stream",
     "text": [
      "   sno  age  age_in_5_years\n",
      "0    1   21              26\n",
      "1    2   22              27\n",
      "2    3   12              17\n",
      "3    4   34              39\n",
      "4    5   23              28\n"
     ]
    }
   ],
   "source": [
    "import pandas as pd\n",
    "\n",
    "# Load CSV into DataFrame\n",
    "df = pd.read_csv(\"example.csv\")\n",
    "\n",
    "# Add a new column 'age_in_5_years'\n",
    "df[\"age_in_5_years\"] = df[\"age\"] + 5\n",
    "\n",
    "print(df.head())\n"
   ]
  },
  {
   "cell_type": "code",
   "execution_count": 20,
   "id": "2476cc6a-8995-4822-9f4b-dc5dc7941c56",
   "metadata": {},
   "outputs": [
    {
     "name": "stdout",
     "output_type": "stream",
     "text": [
      "Filtered rows saved to filtered_example.csv\n",
      "\n",
      "Filtered DataFrame (age < 30):\n",
      "   sno  age\n",
      "0    1   21\n",
      "1    2   22\n",
      "2    3   12\n",
      "4    5   23\n",
      "6    7   29\n"
     ]
    }
   ],
   "source": [
    "import pandas as pd\n",
    "\n",
    "# Load CSV\n",
    "df = pd.read_csv(\"example.csv\")\n",
    "\n",
    "# Filter rows where age < 30\n",
    "filtered_df = df[df[\"age\"] < 30]\n",
    "\n",
    "# Save filtered data into new CSV\n",
    "filtered_df.to_csv(\"filtered_example.csv\", index=False)\n",
    "\n",
    "# Print confirmation\n",
    "print(\"Filtered rows saved to filtered_example.csv\")\n",
    "\n",
    "# Show filtered data\n",
    "print(\"\\nFiltered DataFrame (age < 30):\")\n",
    "print(filtered_df)\n",
    "\n"
   ]
  },
  {
   "cell_type": "code",
   "execution_count": 21,
   "id": "43a72306-7a05-417f-9195-5178cc422893",
   "metadata": {},
   "outputs": [
    {
     "name": "stdout",
     "output_type": "stream",
     "text": [
      "   sno\n",
      "0    1\n",
      "1    2\n",
      "2    3\n",
      "3    4\n",
      "4    5\n"
     ]
    }
   ],
   "source": [
    "import pandas as pd\n",
    "\n",
    "# Read only the 'sno' column from CSV\n",
    "df = pd.read_csv(\"example.csv\", usecols=[\"sno\"])\n",
    "print(df.head())\n"
   ]
  },
  {
   "cell_type": "code",
   "execution_count": 22,
   "id": "1257984c-0728-46d2-8b4c-399f6758ae95",
   "metadata": {},
   "outputs": [
    {
     "name": "stdout",
     "output_type": "stream",
     "text": [
      "New rows added to example.csv\n",
      "\n",
      "Updated CSV content:\n",
      "    sno  age\n",
      "0     1   21\n",
      "1     2   22\n",
      "2     3   12\n",
      "3     4   34\n",
      "4     5   23\n",
      "5     6   45\n",
      "6     7   29\n",
      "7     8   39\n",
      "8     9   56\n",
      "9    10   45\n",
      "10   12   40\n",
      "11   13   42\n"
     ]
    }
   ],
   "source": [
    "import pandas as pd\n",
    "\n",
    "# New data to add\n",
    "new_data = pd.DataFrame({\"sno\": [12, 13], \"age\": [40, 42]})\n",
    "\n",
    "# Append without writing headers again\n",
    "new_data.to_csv(\"example.csv\", mode=\"a\", header=False, index=False)\n",
    "\n",
    "# Print confirmation\n",
    "print(\"New rows added to example.csv\")\n",
    "\n",
    "# Read the updated CSV and print it\n",
    "updated_df = pd.read_csv(\"example.csv\")\n",
    "print(\"\\nUpdated CSV content:\")\n",
    "print(updated_df)\n",
    "\n"
   ]
  },
  {
   "cell_type": "code",
   "execution_count": 23,
   "id": "9e8d1daf-1621-4aa0-816d-69421afc8cfc",
   "metadata": {},
   "outputs": [
    {
     "name": "stdout",
     "output_type": "stream",
     "text": [
      "Total rows: 12\n"
     ]
    }
   ],
   "source": [
    "import pandas as pd\n",
    "\n",
    "# Read CSV\n",
    "df = pd.read_csv(\"example.csv\")\n",
    "\n",
    "# Print total number of rows\n",
    "print(\"Total rows:\", len(df))\n"
   ]
  }
 ],
 "metadata": {
  "kernelspec": {
   "display_name": "Python 3 (ipykernel)",
   "language": "python",
   "name": "python3"
  },
  "language_info": {
   "codemirror_mode": {
    "name": "ipython",
    "version": 3
   },
   "file_extension": ".py",
   "mimetype": "text/x-python",
   "name": "python",
   "nbconvert_exporter": "python",
   "pygments_lexer": "ipython3",
   "version": "3.12.1"
  }
 },
 "nbformat": 4,
 "nbformat_minor": 5
}
