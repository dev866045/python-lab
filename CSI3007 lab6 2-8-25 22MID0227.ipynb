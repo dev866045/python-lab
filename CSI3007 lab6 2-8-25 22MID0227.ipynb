{
 "cells": [
  {
   "cell_type": "code",
   "execution_count": 1,
   "id": "032ba11e-22f2-41a6-a821-d861bc7c625e",
   "metadata": {},
   "outputs": [
    {
     "name": "stdout",
     "output_type": "stream",
     "text": [
      "I have a dog.\n",
      "My dog's name is Kala.\n",
      "\n",
      "I have a cat.\n",
      "My cat's name is Bhairav.\n",
      "\n"
     ]
    }
   ],
   "source": [
    "def describe_pet(animal_type, pet_name):\n",
    "    \"\"\"Display information about a pet.\"\"\"\n",
    "    print(f\"I have a {animal_type}.\")\n",
    "    print(f\"My {animal_type}'s name is {pet_name}.\\n\")\n",
    "\n",
    "# Positional arguments (order matters)\n",
    "describe_pet('dog', 'Kala')\n",
    "\n",
    "# Keyword arguments (order doesn't matter)\n",
    "describe_pet(animal_type='cat', pet_name='Bhairav')\n"
   ]
  },
  {
   "cell_type": "code",
   "execution_count": 2,
   "id": "7cd66069-54c7-4258-a150-6b3e5c52bb94",
   "metadata": {},
   "outputs": [
    {
     "name": "stdout",
     "output_type": "stream",
     "text": [
      "I have a dog.\n",
      "My dog's name is Kala.\n",
      "\n",
      "I have a parrot.\n",
      "My parrot's name is Bhairav.\n",
      "\n",
      "I have a hamster.\n",
      "My hamster's name is Shero.\n",
      "\n"
     ]
    }
   ],
   "source": [
    "def describe_pet(animal_type, pet_name):\n",
    "    \"\"\"Display information about a pet.\"\"\"\n",
    "    print(f\"I have a {animal_type}.\")\n",
    "    print(f\"My {animal_type}'s name is {pet_name}.\\n\")\n",
    "\n",
    "# Calling the same function multiple times\n",
    "describe_pet('dog', 'Kala')\n",
    "describe_pet('parrot', 'Bhairav')\n",
    "describe_pet('hamster', 'Shero')\n"
   ]
  },
  {
   "cell_type": "code",
   "execution_count": 3,
   "id": "de094ca7-00f0-43a1-a1d5-324ca8261ea5",
   "metadata": {},
   "outputs": [
    {
     "name": "stdout",
     "output_type": "stream",
     "text": [
      "I have a dog.\n",
      "My dog's name is Kala.\n",
      "\n",
      "I have a Kala.\n",
      "My Kala's name is dog.\n",
      "\n"
     ]
    }
   ],
   "source": [
    "def describe_pet(animal_type, pet_name):\n",
    "    \"\"\"Display information about a pet.\"\"\"\n",
    "    print(f\"I have a {animal_type}.\")\n",
    "    print(f\"My {animal_type}'s name is {pet_name}.\\n\")\n",
    "\n",
    "# Correct order\n",
    "describe_pet('dog', 'Kala')\n",
    "\n",
    "# Wrong order (changes meaning)\n",
    "describe_pet('Kala', 'dog')\n"
   ]
  },
  {
   "cell_type": "code",
   "execution_count": 4,
   "id": "4cdf62e4-86f8-4550-9a50-b2f8b069f665",
   "metadata": {},
   "outputs": [
    {
     "name": "stdout",
     "output_type": "stream",
     "text": [
      "I have a dog.\n",
      "My dog's name is Kala.\n",
      "\n",
      "I have a cat.\n",
      "My cat's name is Bhairav.\n",
      "\n"
     ]
    }
   ],
   "source": [
    "def describe_pet(animal_type, pet_name):\n",
    "    \"\"\"Display information about a pet.\"\"\"\n",
    "    print(f\"I have a {animal_type}.\")\n",
    "    print(f\"My {animal_type}'s name is {pet_name}.\\n\")\n",
    "\n",
    "# Keyword arguments allow any order\n",
    "describe_pet(pet_name='Kala', animal_type='dog')\n",
    "describe_pet(animal_type='cat', pet_name='Bhairav')\n"
   ]
  },
  {
   "cell_type": "code",
   "execution_count": 5,
   "id": "ea2896f5-b396-4c8f-be09-99105bca41c4",
   "metadata": {},
   "outputs": [
    {
     "name": "stdout",
     "output_type": "stream",
     "text": [
      "I have a dog.\n",
      "My dog's name is Kala.\n",
      "\n",
      "I have a cat.\n",
      "My cat's name is Bhairav.\n",
      "\n",
      "I have a parrot.\n",
      "My parrot's name is Shero.\n",
      "\n"
     ]
    }
   ],
   "source": [
    "def describe_pet(pet_name, animal_type='dog'):\n",
    "    \"\"\"Display information about a pet with a default animal type.\"\"\"\n",
    "    print(f\"I have a {animal_type}.\")\n",
    "    print(f\"My {animal_type}'s name is {pet_name}.\\n\")\n",
    "\n",
    "# Using default value\n",
    "describe_pet('Kala')\n",
    "\n",
    "# Overriding default value\n",
    "describe_pet('Bhairav', 'cat')\n",
    "describe_pet('Shero', 'parrot')\n"
   ]
  },
  {
   "cell_type": "code",
   "execution_count": 6,
   "id": "b06691cc-1999-4eaf-ab2e-568ea823b7bc",
   "metadata": {},
   "outputs": [
    {
     "name": "stdout",
     "output_type": "stream",
     "text": [
      "I have a dog.\n",
      "My dog's name is Kala.\n",
      "\n",
      "I have a dog.\n",
      "My dog's name is Kala.\n",
      "\n",
      "I have a cat.\n",
      "My cat's name is Bhairav.\n",
      "\n",
      "I have a parrot.\n",
      "My parrot's name is Shero.\n",
      "\n",
      "I have a hamster.\n",
      "My hamster's name is Kala.\n",
      "\n"
     ]
    }
   ],
   "source": [
    "def describe_pet(pet_name, animal_type='dog'):\n",
    "    \"\"\"Display information about a pet.\"\"\"\n",
    "    print(f\"I have a {animal_type}.\")\n",
    "    print(f\"My {animal_type}'s name is {pet_name}.\\n\")\n",
    "\n",
    "# Positional argument for pet_name only\n",
    "describe_pet('Kala')  \n",
    "# Kala → pet_name, animal_type uses default 'dog'\n",
    "\n",
    "# Keyword argument for pet_name\n",
    "describe_pet(pet_name='Kala')  \n",
    "\n",
    "# Two positional arguments\n",
    "describe_pet('Bhairav', 'cat')  \n",
    "\n",
    "# Two keyword arguments\n",
    "describe_pet(pet_name='Shero', animal_type='parrot')  \n",
    "\n",
    "# Two keyword arguments (order swapped)\n",
    "describe_pet(animal_type='hamster', pet_name='Kala')  \n"
   ]
  },
  {
   "cell_type": "code",
   "execution_count": 7,
   "id": "34bd62a2-efc1-4d60-865f-ff71a9837225",
   "metadata": {},
   "outputs": [
    {
     "name": "stdout",
     "output_type": "stream",
     "text": [
      "Kala\n",
      "Bhairav\n"
     ]
    }
   ],
   "source": [
    "def get_formatted_pet_name(pet_name):\n",
    "    \"\"\"Return the pet's name in title case.\"\"\"\n",
    "    return pet_name.title()\n",
    "\n",
    "print(get_formatted_pet_name('kala'))\n",
    "print(get_formatted_pet_name('bhairav'))\n"
   ]
  },
  {
   "cell_type": "code",
   "execution_count": 8,
   "id": "1aef6c2a-8716-411f-8bb5-35bb767be4b8",
   "metadata": {},
   "outputs": [
    {
     "name": "stdout",
     "output_type": "stream",
     "text": [
      "I have a dog.\n",
      "My dog's name is Kala.\n",
      "\n",
      "I have a cat.\n",
      "My cat's name is Bhairav.\n",
      "\n"
     ]
    }
   ],
   "source": [
    "def describe_pet(pet_name, animal_type='dog'):\n",
    "    \"\"\"animal_type is optional.\"\"\"\n",
    "    print(f\"I have a {animal_type}.\")\n",
    "    print(f\"My {animal_type}'s name is {pet_name}.\\n\")\n",
    "\n",
    "describe_pet('Kala')                  # Uses default animal_type\n",
    "describe_pet('Bhairav', 'cat')        # Overrides default\n"
   ]
  },
  {
   "cell_type": "code",
   "execution_count": 9,
   "id": "26afe890-af47-4e9d-a605-4ad606787be9",
   "metadata": {},
   "outputs": [
    {
     "name": "stdout",
     "output_type": "stream",
     "text": [
      "{'name': 'Kala', 'animal_type': 'dog'}\n"
     ]
    }
   ],
   "source": [
    "def build_pet_profile(name, animal_type):\n",
    "    \"\"\"Return a dictionary about a pet.\"\"\"\n",
    "    return {'name': name, 'animal_type': animal_type}\n",
    "\n",
    "pet = build_pet_profile('Kala', 'dog')\n",
    "print(pet)\n"
   ]
  },
  {
   "cell_type": "code",
   "execution_count": 10,
   "id": "9501e989-f183-4bd9-8747-94e4aca07a42",
   "metadata": {},
   "outputs": [
    {
     "name": "stdout",
     "output_type": "stream",
     "text": [
      "Hello, Kala!\n",
      "Hello, Bhairav!\n",
      "Hello, Shero!\n"
     ]
    }
   ],
   "source": [
    "def greet_pets(pet_names):\n",
    "    \"\"\"Greet each pet in the list.\"\"\"\n",
    "    for name in pet_names:\n",
    "        print(f\"Hello, {name.title()}!\")\n",
    "\n",
    "pets = ['kala', 'bhairav', 'shero']\n",
    "greet_pets(pets)\n"
   ]
  },
  {
   "cell_type": "code",
   "execution_count": 11,
   "id": "cc160745-e101-4f8a-93af-243ddded7e7c",
   "metadata": {},
   "outputs": [
    {
     "name": "stdout",
     "output_type": "stream",
     "text": [
      "['KALA', 'BHAIRAV', 'SHERO']\n"
     ]
    }
   ],
   "source": [
    "def uppercase_pets(pet_names):\n",
    "    \"\"\"Modify list elements to uppercase.\"\"\"\n",
    "    for i in range(len(pet_names)):\n",
    "        pet_names[i] = pet_names[i].upper()\n",
    "\n",
    "pets = ['kala', 'bhairav', 'shero']\n",
    "uppercase_pets(pets)\n",
    "print(pets)\n"
   ]
  },
  {
   "cell_type": "code",
   "execution_count": 12,
   "id": "018d4f16-e61a-49ee-a7a3-6a2d7988a680",
   "metadata": {},
   "outputs": [
    {
     "name": "stdout",
     "output_type": "stream",
     "text": [
      "Original: ['kala', 'bhairav', 'shero']\n",
      "Modified: ['KALA', 'BHAIRAV', 'SHERO']\n"
     ]
    }
   ],
   "source": [
    "def uppercase_pets_copy(pet_names):\n",
    "    \"\"\"Work on a copy to avoid modifying original list.\"\"\"\n",
    "    for i in range(len(pet_names)):\n",
    "        pet_names[i] = pet_names[i].upper()\n",
    "    return pet_names\n",
    "\n",
    "pets = ['kala', 'bhairav', 'shero']\n",
    "new_list = uppercase_pets_copy(pets[:])  # Passing a copy\n",
    "print(\"Original:\", pets)\n",
    "print(\"Modified:\", new_list)\n"
   ]
  },
  {
   "cell_type": "code",
   "execution_count": 16,
   "id": "78d78af2-7ab5-4b02-aad6-6ff54765548f",
   "metadata": {},
   "outputs": [
    {
     "name": "stdout",
     "output_type": "stream",
     "text": [
      "My pets are:\n",
      "- Kala\n",
      "My pets are:\n",
      "- Kala\n",
      "- Bhairav\n",
      "- Shero\n"
     ]
    }
   ],
   "source": [
    "def list_pets(*pets):\n",
    "    \"\"\"\n",
    "    Accepts any number of pet names.\n",
    "    *pets collects all arguments into a tuple.\n",
    "    \"\"\"\n",
    "    print(\"My pets are:\")\n",
    "    for pet in pets:  # Loop through each pet name\n",
    "        print(f\"- {pet}\")\n",
    "\n",
    "# Passing one argument\n",
    "list_pets('Kala')\n",
    "\n",
    "# Passing multiple arguments\n",
    "list_pets('Kala', 'Bhairav', 'Shero')\n"
   ]
  },
  {
   "cell_type": "code",
   "execution_count": 17,
   "id": "f9487ce4-3df7-42c4-8170-d210be603aa2",
   "metadata": {},
   "outputs": [
    {
     "name": "stdout",
     "output_type": "stream",
     "text": [
      "Owner: Dev\n",
      "Pets:\n",
      "- Kala\n",
      "- Bhairav\n",
      "- Shero\n"
     ]
    }
   ],
   "source": [
    "def show_pet_info(owner, *pets):\n",
    "    \"\"\"\n",
    "    First argument is owner name (positional),\n",
    "    remaining arguments are pet names (*pets).\n",
    "    \"\"\"\n",
    "    print(f\"Owner: {owner}\")\n",
    "    print(\"Pets:\")\n",
    "    for pet in pets:  # Loop through each pet name\n",
    "        print(f\"- {pet}\")\n",
    "\n",
    "# First argument is owner, rest are pets\n",
    "show_pet_info('Dev', 'Kala', 'Bhairav', 'Shero')\n",
    "\n"
   ]
  },
  {
   "cell_type": "code",
   "execution_count": 18,
   "id": "ba012998-9024-424a-a855-002df4951e4a",
   "metadata": {},
   "outputs": [
    {
     "name": "stdout",
     "output_type": "stream",
     "text": [
      "{'animal_type': 'dog', 'age': 5, 'color': 'black', 'name': 'Kala'}\n"
     ]
    }
   ],
   "source": [
    "def build_pet_profile(name, **info):\n",
    "    \"\"\"\n",
    "    Accepts arbitrary keyword arguments.\n",
    "    **info stores them as a dictionary.\n",
    "    \"\"\"\n",
    "    info['name'] = name  # Add the pet name to the dictionary\n",
    "    return info\n",
    "\n",
    "# Passing extra details as keyword arguments\n",
    "pet = build_pet_profile('Kala', animal_type='dog', age=5, color='black')\n",
    "print(pet)  # Output will be a dictionary with all details\n"
   ]
  },
  {
   "cell_type": "code",
   "execution_count": 19,
   "id": "99c9a7fc-a6de-441d-9b22-2280fa55c4ad",
   "metadata": {},
   "outputs": [
    {
     "name": "stdout",
     "output_type": "stream",
     "text": [
      "I have a dog.\n",
      "My dog's name is Kala.\n"
     ]
    }
   ],
   "source": [
    "# Import the module\n",
    "import pets\n",
    "\n",
    "# Call the function from the module\n",
    "pets.describe_pet('dog', 'Kala')\n",
    "\n"
   ]
  },
  {
   "cell_type": "code",
   "execution_count": 20,
   "id": "c52a73fe-f28c-466e-85d7-4d91c4199184",
   "metadata": {},
   "outputs": [
    {
     "name": "stdout",
     "output_type": "stream",
     "text": [
      "I have a dog.\n",
      "My dog's name is Kala.\n"
     ]
    }
   ],
   "source": [
    "# Import only the required function from the module\n",
    "from pets import describe_pet\n",
    "\n",
    "# Call it directly without module name\n",
    "describe_pet('dog', 'Kala')\n"
   ]
  },
  {
   "cell_type": "code",
   "execution_count": 21,
   "id": "97c2f20a-ce2a-402e-95b5-c4a639d04cd6",
   "metadata": {},
   "outputs": [
    {
     "name": "stdout",
     "output_type": "stream",
     "text": [
      "I have a cat.\n",
      "My cat's name is Bhairav.\n"
     ]
    }
   ],
   "source": [
    "# Import the function but give it a short alias\n",
    "from pets import describe_pet as dp\n",
    "\n",
    "# Call the function using its alias\n",
    "dp('cat', 'Bhairav')\n"
   ]
  },
  {
   "cell_type": "code",
   "execution_count": 22,
   "id": "1fb138aa-c868-4ba8-a6ec-a7409884767c",
   "metadata": {},
   "outputs": [
    {
     "name": "stdout",
     "output_type": "stream",
     "text": [
      "I have a parrot.\n",
      "My parrot's name is Shero.\n"
     ]
    }
   ],
   "source": [
    "# Import the module but give it a short alias\n",
    "import pets as p\n",
    "\n",
    "# Call the function using module alias\n",
    "p.describe_pet('parrot', 'Shero')\n"
   ]
  },
  {
   "cell_type": "code",
   "execution_count": 23,
   "id": "f449f56e-6cbd-4def-80ad-077b4b95c12a",
   "metadata": {},
   "outputs": [
    {
     "name": "stdout",
     "output_type": "stream",
     "text": [
      "I have a dog.\n",
      "My dog's name is Kala.\n"
     ]
    }
   ],
   "source": [
    "# Import all functions from the module\n",
    "from pets import *\n",
    "\n",
    "# Call the function directly\n",
    "describe_pet('dog', 'Kala')\n"
   ]
  },
  {
   "cell_type": "code",
   "execution_count": null,
   "id": "5b0b1b12-cac2-461f-b9b3-b3baefac72ca",
   "metadata": {},
   "outputs": [],
   "source": []
  }
 ],
 "metadata": {
  "kernelspec": {
   "display_name": "Python 3 (ipykernel)",
   "language": "python",
   "name": "python3"
  },
  "language_info": {
   "codemirror_mode": {
    "name": "ipython",
    "version": 3
   },
   "file_extension": ".py",
   "mimetype": "text/x-python",
   "name": "python",
   "nbconvert_exporter": "python",
   "pygments_lexer": "ipython3",
   "version": "3.12.1"
  }
 },
 "nbformat": 4,
 "nbformat_minor": 5
}
