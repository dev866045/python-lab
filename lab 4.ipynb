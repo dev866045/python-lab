{
 "cells": [
  {
   "cell_type": "code",
   "execution_count": 1,
   "id": "e6e98f91-a24a-4049-a53c-a3f57b9c4b4b",
   "metadata": {},
   "outputs": [
    {
     "name": "stdout",
     "output_type": "stream",
     "text": [
      "Element at index 0 is 10\n",
      "Element at index 1 is 20\n",
      "Element at index 2 is 30\n",
      "Element at index 3 is 40\n",
      "Element at index 4 is 50\n"
     ]
    }
   ],
   "source": [
    "# Let's say we have a list of 5 elements\n",
    "numbers = [10, 20, 30, 40, 50]\n",
    "\n",
    "# We want to print all elements using a loop\n",
    "for i in range(0, len(numbers)):\n",
    "    print(f\"Element at index {i} is {numbers[i]}\")\n"
   ]
  },
  {
   "cell_type": "code",
   "execution_count": 2,
   "id": "7ddb9fdb-2d32-4706-b41a-66a00dd1dc56",
   "metadata": {},
   "outputs": [
    {
     "name": "stdout",
     "output_type": "stream",
     "text": [
      "First 2: ['apple', 'banana']\n",
      "Last 2: ['date', 'elderberry']\n",
      "3rd to last: ['cherry', 'date', 'elderberry']\n"
     ]
    }
   ],
   "source": [
    "# A sample list\n",
    "fruits = [\"apple\", \"banana\", \"cherry\", \"date\", \"elderberry\"]\n",
    "\n",
    "# First 2 elements (index 0 and 1)\n",
    "print(\"First 2:\", fruits[:2])\n",
    "\n",
    "# Last 2 elements\n",
    "print(\"Last 2:\", fruits[-2:])\n",
    "\n",
    "# From 3rd element to the last (index 2 to end)\n",
    "print(\"3rd to last:\", fruits[2:])\n"
   ]
  },
  {
   "cell_type": "code",
   "execution_count": 3,
   "id": "238ed353-1ca5-4caf-8146-3142b5653723",
   "metadata": {},
   "outputs": [
    {
     "name": "stdout",
     "output_type": "stream",
     "text": [
      "Color is: red\n",
      "Color is: green\n",
      "Color is: blue\n"
     ]
    }
   ],
   "source": [
    "# Simple list\n",
    "colors = [\"red\", \"green\", \"blue\"]\n",
    "\n",
    "# Loop through each color\n",
    "for color in colors:\n",
    "    print(\"Color is:\", color)\n"
   ]
  },
  {
   "cell_type": "code",
   "execution_count": 4,
   "id": "9c978a1d-11a3-48d4-9a30-9b7a7db90675",
   "metadata": {},
   "outputs": [
    {
     "name": "stdout",
     "output_type": "stream",
     "text": [
      "Sliced Color: green\n",
      "Sliced Color: blue\n",
      "Sliced Color: yellow\n"
     ]
    }
   ],
   "source": [
    "# Let's reuse the colors list\n",
    "colors = [\"red\", \"green\", \"blue\", \"yellow\", \"purple\"]\n",
    "\n",
    "# Suppose we only want to loop through the middle 3 colors (index 1 to 3)\n",
    "for color in colors[1:4]:  # includes index 1, 2, 3\n",
    "    print(\"Sliced Color:\", color)\n"
   ]
  },
  {
   "cell_type": "code",
   "execution_count": 5,
   "id": "b6682eff-499c-47aa-aff3-69ab20125e18",
   "metadata": {},
   "outputs": [
    {
     "name": "stdout",
     "output_type": "stream",
     "text": [
      "Name: Alice\n",
      "Age: 25\n",
      "Job: Engineer\n"
     ]
    }
   ],
   "source": [
    "# Example of a tuple\n",
    "person = (\"Alice\", 25, \"Engineer\")\n",
    "\n",
    "# Accessing elements is just like a list\n",
    "print(\"Name:\", person[0])\n",
    "print(\"Age:\", person[1])\n",
    "print(\"Job:\", person[2])"
   ]
  },
  {
   "cell_type": "code",
   "execution_count": null,
   "id": "850a4626-c196-488c-ac18-3916c1deae0c",
   "metadata": {},
   "outputs": [],
   "source": []
  }
 ],
 "metadata": {
  "kernelspec": {
   "display_name": "Python 3 (ipykernel)",
   "language": "python",
   "name": "python3"
  },
  "language_info": {
   "codemirror_mode": {
    "name": "ipython",
    "version": 3
   },
   "file_extension": ".py",
   "mimetype": "text/x-python",
   "name": "python",
   "nbconvert_exporter": "python",
   "pygments_lexer": "ipython3",
   "version": "3.12.1"
  }
 },
 "nbformat": 4,
 "nbformat_minor": 5
}
