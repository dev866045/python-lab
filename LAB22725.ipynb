{
 "cells": [
  {
   "cell_type": "code",
   "execution_count": 1,
   "id": "2a97d304-ca3a-4fcb-8159-866617a4a9dc",
   "metadata": {},
   "outputs": [],
   "source": [
    "beach_destinations = [\"Goa\", \"Maldives\", \"Bali\"]\n",
    "hill_stations = [\"Manali\", \"Shimla\", \"Darjeeling\"]\n",
    "historic_places = [\"Rome\", \"Athens\", \"Machu Picchu\"]\n"
   ]
  },
  {
   "cell_type": "code",
   "execution_count": 2,
   "id": "c684c5ce-4f7f-47b8-84dd-aa0b51b8bbfa",
   "metadata": {},
   "outputs": [],
   "source": [
    "all_destinations = [beach_destinations, hill_stations, historic_places]\n"
   ]
  },
  {
   "cell_type": "code",
   "execution_count": 3,
   "id": "b2c150a8-488b-461c-a996-8ec37ae0f711",
   "metadata": {},
   "outputs": [
    {
     "name": "stdout",
     "output_type": "stream",
     "text": [
      "Maldives\n"
     ]
    }
   ],
   "source": [
    "print(beach_destinations[1])  # Maldives\n"
   ]
  },
  {
   "cell_type": "code",
   "execution_count": 4,
   "id": "2ca0db52-5d83-42d0-9ae7-4eb51637a61d",
   "metadata": {},
   "outputs": [],
   "source": [
    "hill_stations.append(\"Ooty\")\n"
   ]
  },
  {
   "cell_type": "code",
   "execution_count": 5,
   "id": "5eecaf66-c6bf-4517-a511-90ec9e5a555f",
   "metadata": {},
   "outputs": [],
   "source": [
    "historic_places.insert(1, \"Petra\")\n"
   ]
  },
  {
   "cell_type": "code",
   "execution_count": 6,
   "id": "52f3c5f7-1fd0-4bce-b393-2ed2174813c7",
   "metadata": {},
   "outputs": [],
   "source": [
    "beach_destinations.remove(\"Bali\")\n"
   ]
  },
  {
   "cell_type": "code",
   "execution_count": 7,
   "id": "987bb3db-3470-453d-b49f-d3eb39dac460",
   "metadata": {},
   "outputs": [],
   "source": [
    "hill_stations.sort()\n"
   ]
  },
  {
   "cell_type": "code",
   "execution_count": 8,
   "id": "b16a9925-8cf0-49f1-84a5-0dae96cc4e94",
   "metadata": {},
   "outputs": [],
   "source": [
    "historic_places.reverse()\n"
   ]
  },
  {
   "cell_type": "code",
   "execution_count": 9,
   "id": "16332dff-e10a-4f88-92cf-a5e3254ba5ec",
   "metadata": {},
   "outputs": [
    {
     "name": "stdout",
     "output_type": "stream",
     "text": [
      "2\n"
     ]
    }
   ],
   "source": [
    "print(len(beach_destinations))  # Gives number of destinations\n"
   ]
  },
  {
   "cell_type": "code",
   "execution_count": 10,
   "id": "1ecc1d22-3936-41fa-98d8-42c6bcf7c634",
   "metadata": {},
   "outputs": [],
   "source": [
    "combined_list = beach_destinations + hill_stations\n"
   ]
  },
  {
   "cell_type": "code",
   "execution_count": 11,
   "id": "75bc460f-556c-43ba-93ed-06e4d3d43bd8",
   "metadata": {},
   "outputs": [
    {
     "name": "stdout",
     "output_type": "stream",
     "text": [
      "Goa\n",
      "Maldives\n",
      "Darjeeling\n",
      "Manali\n",
      "Ooty\n",
      "Shimla\n",
      "Machu Picchu\n",
      "Athens\n",
      "Petra\n",
      "Rome\n"
     ]
    }
   ],
   "source": [
    "for category in all_destinations:\n",
    "    for place in category:\n",
    "        print(place)\n"
   ]
  },
  {
   "cell_type": "code",
   "execution_count": 12,
   "id": "d0cca0b9-687b-4a75-aa9a-ddcee12ded0f",
   "metadata": {},
   "outputs": [],
   "source": [
    "all_places = [place for category in all_destinations for place in category]\n"
   ]
  },
  {
   "cell_type": "code",
   "execution_count": 13,
   "id": "a351039c-5ce9-46b9-8b32-769b1b1dcc58",
   "metadata": {},
   "outputs": [
    {
     "name": "stdout",
     "output_type": "stream",
     "text": [
      "Choose your beach destination:\n",
      "1. Goa\n",
      "2. Maldives\n",
      "3. Bali\n"
     ]
    },
    {
     "name": "stdin",
     "output_type": "stream",
     "text": [
      "Enter your choice (1-3):  1\n"
     ]
    },
    {
     "name": "stdout",
     "output_type": "stream",
     "text": [
      "\n",
      "Choose your hill station:\n",
      "1. Manali\n",
      "2. Shimla\n",
      "3. Darjeeling\n"
     ]
    },
    {
     "name": "stdin",
     "output_type": "stream",
     "text": [
      "Enter your choice (1-3):  2\n"
     ]
    },
    {
     "name": "stdout",
     "output_type": "stream",
     "text": [
      "\n",
      "Choose your historic place:\n",
      "1. Rome\n",
      "2. Athens\n",
      "3. Machu Picchu\n"
     ]
    },
    {
     "name": "stdin",
     "output_type": "stream",
     "text": [
      "Enter your choice (1-3):  2\n"
     ]
    },
    {
     "name": "stdout",
     "output_type": "stream",
     "text": [
      "\n",
      "🗺️ Your Custom Travel Itinerary:\n",
      "Day 1-3: Relax at the beach in Goa\n",
      "Day 4-6: Explore the hills of Shimla\n",
      "Day 7-9: Discover history in Athens\n"
     ]
    }
   ],
   "source": [
    "# Step 1: Create destination categories\n",
    "beach_destinations = [\"Goa\", \"Maldives\", \"Bali\"]\n",
    "hill_stations = [\"Manali\", \"Shimla\", \"Darjeeling\"]\n",
    "historic_places = [\"Rome\", \"Athens\", \"Machu Picchu\"]\n",
    "\n",
    "# Step 2: Ask the user to choose 1 place from each category\n",
    "print(\"Choose your beach destination:\")\n",
    "for i, place in enumerate(beach_destinations):\n",
    "    print(f\"{i + 1}. {place}\")\n",
    "beach_choice = int(input(\"Enter your choice (1-3): \")) - 1\n",
    "\n",
    "print(\"\\nChoose your hill station:\")\n",
    "for i, place in enumerate(hill_stations):\n",
    "    print(f\"{i + 1}. {place}\")\n",
    "hill_choice = int(input(\"Enter your choice (1-3): \")) - 1\n",
    "\n",
    "print(\"\\nChoose your historic place:\")\n",
    "for i, place in enumerate(historic_places):\n",
    "    print(f\"{i + 1}. {place}\")\n",
    "historic_choice = int(input(\"Enter your choice (1-3): \")) - 1\n",
    "\n",
    "# Step 3: Create the itinerary\n",
    "itinerary = [\n",
    "    f\"Day 1-3: Relax at the beach in {beach_destinations[beach_choice]}\",\n",
    "    f\"Day 4-6: Explore the hills of {hill_stations[hill_choice]}\",\n",
    "    f\"Day 7-9: Discover history in {historic_places[historic_choice]}\"\n",
    "]\n",
    "\n",
    "# Step 4: Print the final itinerary\n",
    "print(\"\\n🗺️ Your Custom Travel Itinerary:\")\n",
    "for day_plan in itinerary:\n",
    "    print(day_plan)\n"
   ]
  },
  {
   "cell_type": "code",
   "execution_count": null,
   "id": "a5a9fe6c-74aa-4508-9398-1662e4e929fb",
   "metadata": {},
   "outputs": [],
   "source": []
  }
 ],
 "metadata": {
  "kernelspec": {
   "display_name": "Python 3 (ipykernel)",
   "language": "python",
   "name": "python3"
  },
  "language_info": {
   "codemirror_mode": {
    "name": "ipython",
    "version": 3
   },
   "file_extension": ".py",
   "mimetype": "text/x-python",
   "name": "python",
   "nbconvert_exporter": "python",
   "pygments_lexer": "ipython3",
   "version": "3.12.1"
  }
 },
 "nbformat": 4,
 "nbformat_minor": 5
}
