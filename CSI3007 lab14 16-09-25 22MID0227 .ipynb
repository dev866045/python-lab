{
 "cells": [
  {
   "cell_type": "code",
   "execution_count": 1,
   "id": "de001757-3e0d-4070-b94c-a46759615221",
   "metadata": {},
   "outputs": [],
   "source": [
    "#Working with CSV Files"
   ]
  },
  {
   "cell_type": "code",
   "execution_count": 5,
   "id": "4814ef9f-e702-4e19-bb63-a9897cad8006",
   "metadata": {},
   "outputs": [
    {
     "name": "stdout",
     "output_type": "stream",
     "text": [
      "Collecting openpyxl\n",
      "  Downloading openpyxl-3.1.5-py2.py3-none-any.whl.metadata (2.5 kB)\n",
      "Collecting et-xmlfile (from openpyxl)\n",
      "  Downloading et_xmlfile-2.0.0-py3-none-any.whl.metadata (2.7 kB)\n",
      "Downloading openpyxl-3.1.5-py2.py3-none-any.whl (250 kB)\n",
      "Downloading et_xmlfile-2.0.0-py3-none-any.whl (18 kB)\n",
      "Installing collected packages: et-xmlfile, openpyxl\n",
      "\u001b[2K   \u001b[90m━━━━━━━━━━━━━━━━━━━━━━━━━━━━━━━━━━━━━━━━\u001b[0m \u001b[32m2/2\u001b[0m [openpyxl]1/2\u001b[0m [openpyxl]\n",
      "\u001b[1A\u001b[2KSuccessfully installed et-xmlfile-2.0.0 openpyxl-3.1.5\n",
      "\n",
      "\u001b[1m[\u001b[0m\u001b[34;49mnotice\u001b[0m\u001b[1;39;49m]\u001b[0m\u001b[39;49m A new release of pip is available: \u001b[0m\u001b[31;49m25.1.1\u001b[0m\u001b[39;49m -> \u001b[0m\u001b[32;49m25.2\u001b[0m\n",
      "\u001b[1m[\u001b[0m\u001b[34;49mnotice\u001b[0m\u001b[1;39;49m]\u001b[0m\u001b[39;49m To update, run: \u001b[0m\u001b[32;49mpip install --upgrade pip\u001b[0m\n"
     ]
    }
   ],
   "source": [
    "!pip install openpyxl\n",
    "\n"
   ]
  },
  {
   "cell_type": "code",
   "execution_count": 6,
   "id": "7bbff6e9-2c9b-4435-9c33-0043374a6421",
   "metadata": {},
   "outputs": [
    {
     "name": "stdout",
     "output_type": "stream",
     "text": [
      "Requirement already satisfied: pip in /Library/Frameworks/Python.framework/Versions/3.12/lib/python3.12/site-packages (25.1.1)\n",
      "Collecting pip\n",
      "  Downloading pip-25.2-py3-none-any.whl.metadata (4.7 kB)\n",
      "Downloading pip-25.2-py3-none-any.whl (1.8 MB)\n",
      "\u001b[2K   \u001b[90m━━━━━━━━━━━━━━━━━━━━━━━━━━━━━━━━━━━━━━━━\u001b[0m \u001b[32m1.8/1.8 MB\u001b[0m \u001b[31m1.3 MB/s\u001b[0m eta \u001b[36m0:00:00\u001b[0ma \u001b[36m0:00:01\u001b[0m\n",
      "\u001b[?25hInstalling collected packages: pip\n",
      "  Attempting uninstall: pip\n",
      "    Found existing installation: pip 25.1.1\n",
      "    Uninstalling pip-25.1.1:\n",
      "      Successfully uninstalled pip-25.1.1\n",
      "Successfully installed pip-25.2\n",
      "Note: you may need to restart the kernel to use updated packages.\n"
     ]
    }
   ],
   "source": [
    "pip install --upgrade pip\n"
   ]
  },
  {
   "cell_type": "code",
   "execution_count": 7,
   "id": "b05daf52-9b4d-4aa9-9b91-0a5032268421",
   "metadata": {},
   "outputs": [
    {
     "name": "stdout",
     "output_type": "stream",
     "text": [
      "Requirement already satisfied: openpyxl in /Library/Frameworks/Python.framework/Versions/3.12/lib/python3.12/site-packages (3.1.5)\n",
      "Requirement already satisfied: et-xmlfile in /Library/Frameworks/Python.framework/Versions/3.12/lib/python3.12/site-packages (from openpyxl) (2.0.0)\n"
     ]
    }
   ],
   "source": [
    "!pip install openpyxl"
   ]
  },
  {
   "cell_type": "code",
   "execution_count": 8,
   "id": "a03db2b6-063a-49fb-b041-404e495f7e16",
   "metadata": {},
   "outputs": [
    {
     "name": "stdout",
     "output_type": "stream",
     "text": [
      "Files created: lab14_dataset.csv, lab14_dataset.xlsx, lab14_dataset.json\n"
     ]
    }
   ],
   "source": [
    "import pandas as pd\n",
    "\n",
    "# Creating the dataset you provided\n",
    "data = {\n",
    "    \"ID\": [1,2,3,4,5,6,7,8,9,10,11,12,13,14,15],\n",
    "    \"AGE\": [21,23,22,34,33,43,22,32,32,22,12,17,36,76,43],\n",
    "    \"BLOODGROUP\": [\"A\",\"B\",\"O\",\"A\",\"A\",\"A\",\"AB\",\"O\",\"AB\",\"B\",\"B\",\"B\",\"O\",\"O\",\"O\"],\n",
    "    \"GENDER\": [\"F\",\"M\",\"F\",\"M\",\"M\",\"M\",\"F\",\"F\",\"F\",\"M\",\"F\",\"F\",\"M\",\"M\",\"M\"]\n",
    "}\n",
    "\n",
    "df = pd.DataFrame(data)\n",
    "\n",
    "# Saving the dataset as CSV, Excel, and JSON for practice\n",
    "df.to_csv(\"lab14_dataset.csv\", index=False)\n",
    "df.to_excel(\"lab14_dataset.xlsx\", index=False)\n",
    "df.to_json(\"lab14_dataset.json\", orient=\"records\", indent=4)\n",
    "\n",
    "print(\"Files created: lab14_dataset.csv, lab14_dataset.xlsx, lab14_dataset.json\")\n"
   ]
  },
  {
   "cell_type": "code",
   "execution_count": 9,
   "id": "bf8d895e-d2b2-4b11-a116-8f7d9b4d3c7d",
   "metadata": {},
   "outputs": [
    {
     "name": "stdout",
     "output_type": "stream",
     "text": [
      "   ID  AGE BLOODGROUP GENDER\n",
      "0   1   21          A      F\n",
      "1   2   23          B      M\n",
      "2   3   22          O      F\n",
      "3   4   34          A      M\n",
      "4   5   33          A      M\n",
      "    ID  AGE BLOODGROUP GENDER\n",
      "10  11   12          B      F\n",
      "11  12   17          B      F\n",
      "12  13   36          O      M\n",
      "13  14   76          O      M\n",
      "14  15   43          O      M\n",
      "(15, 4)\n",
      "Index(['ID', 'AGE', 'BLOODGROUP', 'GENDER'], dtype='object')\n",
      "<class 'pandas.core.frame.DataFrame'>\n",
      "RangeIndex: 15 entries, 0 to 14\n",
      "Data columns (total 4 columns):\n",
      " #   Column      Non-Null Count  Dtype \n",
      "---  ------      --------------  ----- \n",
      " 0   ID          15 non-null     int64 \n",
      " 1   AGE         15 non-null     int64 \n",
      " 2   BLOODGROUP  15 non-null     object\n",
      " 3   GENDER      15 non-null     object\n",
      "dtypes: int64(2), object(2)\n",
      "memory usage: 612.0+ bytes\n",
      "None\n",
      "              ID        AGE\n",
      "count  15.000000  15.000000\n",
      "mean    8.000000  31.200000\n",
      "std     4.472136  15.391092\n",
      "min     1.000000  12.000000\n",
      "25%     4.500000  22.000000\n",
      "50%     8.000000  32.000000\n",
      "75%    11.500000  35.000000\n",
      "max    15.000000  76.000000\n"
     ]
    }
   ],
   "source": [
    "import pandas as pd\n",
    "\n",
    "# Reading a CSV file into a pandas DataFrame\n",
    "df = pd.read_csv(\"lab14_dataset.csv\")\n",
    "\n",
    "# Printing the first 5 rows to check the data\n",
    "print(df.head())\n",
    "\n",
    "# Printing the last 5 rows\n",
    "print(df.tail())\n",
    "\n",
    "# Getting the shape of the dataset (rows, columns)\n",
    "print(df.shape)\n",
    "\n",
    "# Getting column names\n",
    "print(df.columns)\n",
    "\n",
    "# Getting basic information about the dataset\n",
    "print(df.info())\n",
    "\n",
    "# Getting basic statistics (mean, min, max, etc.) of numeric columns\n",
    "print(df.describe())\n"
   ]
  },
  {
   "cell_type": "code",
   "execution_count": 10,
   "id": "d1c26018-27b1-4bcf-971e-532d5982a7c4",
   "metadata": {},
   "outputs": [],
   "source": [
    "# Writing the DataFrame into a new CSV file\n",
    "df.to_csv(\"output.csv\", index=False)\n",
    "\n",
    "# Appending new rows to the existing CSV file\n",
    "df.to_csv(\"output.csv\", mode='a', header=False, index=False)\n"
   ]
  },
  {
   "cell_type": "code",
   "execution_count": 12,
   "id": "57d3aad9-46d4-4c45-919e-a0b76c0bb628",
   "metadata": {},
   "outputs": [
    {
     "name": "stdout",
     "output_type": "stream",
     "text": [
      "   ID  AGE BLOODGROUP GENDER\n",
      "0   1   21          A      F\n",
      "1   2   23          B      M\n",
      "2   3   22          O      F\n",
      "3   4   34          A      M\n",
      "4   5   33          A      M\n",
      "   ID  AGE BLOODGROUP GENDER\n",
      "5   6   43          A      M\n",
      "6   7   22         AB      F\n",
      "7   8   32          O      F\n",
      "8   9   32         AB      F\n",
      "9  10   22          B      M\n",
      "    ID  AGE BLOODGROUP GENDER\n",
      "10  11   12          B      F\n",
      "11  12   17          B      F\n",
      "12  13   36          O      M\n",
      "13  14   76          O      M\n",
      "14  15   43          O      M\n"
     ]
    }
   ],
   "source": [
    "# Reading a CSV file in chunks of 100 rows\n",
    "for chunk in pd.read_csv(\"lab14_dataset.csv\", chunksize=5):\n",
    "    print(chunk.head())\n"
   ]
  },
  {
   "cell_type": "code",
   "execution_count": 13,
   "id": "92582304-cbd1-44a1-975e-512c67dcddd1",
   "metadata": {},
   "outputs": [
    {
     "name": "stdout",
     "output_type": "stream",
     "text": [
      "0     21\n",
      "1     23\n",
      "2     22\n",
      "3     34\n",
      "4     33\n",
      "5     43\n",
      "6     22\n",
      "7     32\n",
      "8     32\n",
      "9     22\n",
      "10    12\n",
      "11    17\n",
      "12    36\n",
      "13    76\n",
      "14    43\n",
      "Name: AGE, dtype: int64\n",
      "    AGE BLOODGROUP\n",
      "0    21          A\n",
      "1    23          B\n",
      "2    22          O\n",
      "3    34          A\n",
      "4    33          A\n",
      "5    43          A\n",
      "6    22         AB\n",
      "7    32          O\n",
      "8    32         AB\n",
      "9    22          B\n",
      "10   12          B\n",
      "11   17          B\n",
      "12   36          O\n",
      "13   76          O\n",
      "14   43          O\n"
     ]
    }
   ],
   "source": [
    "# Selecting a specific column\n",
    "print(df[\"AGE\"])\n",
    "\n",
    "# Selecting multiple columns\n",
    "print(df[[\"AGE\", \"BLOODGROUP\"]])\n"
   ]
  },
  {
   "cell_type": "code",
   "execution_count": 14,
   "id": "3a2b31fb-450f-4342-84da-1442d935e6e7",
   "metadata": {},
   "outputs": [
    {
     "name": "stdout",
     "output_type": "stream",
     "text": [
      "    ID  AGE BLOODGROUP GENDER\n",
      "3    4   34          A      M\n",
      "4    5   33          A      M\n",
      "5    6   43          A      M\n",
      "7    8   32          O      F\n",
      "8    9   32         AB      F\n",
      "12  13   36          O      M\n",
      "13  14   76          O      M\n",
      "14  15   43          O      M\n",
      "    ID  AGE BLOODGROUP GENDER\n",
      "10  11   12          B      F\n",
      "11  12   17          B      F\n",
      "0    1   21          A      F\n",
      "2    3   22          O      F\n",
      "6    7   22         AB      F\n",
      "9   10   22          B      M\n",
      "1    2   23          B      M\n",
      "7    8   32          O      F\n",
      "8    9   32         AB      F\n",
      "4    5   33          A      M\n",
      "3    4   34          A      M\n",
      "12  13   36          O      M\n",
      "5    6   43          A      M\n",
      "14  15   43          O      M\n",
      "13  14   76          O      M\n"
     ]
    }
   ],
   "source": [
    "# Filtering rows where Age is greater than 25\n",
    "print(df[df[\"AGE\"] > 25])\n",
    "\n",
    "# Sorting rows by Age\n",
    "print(df.sort_values(\"AGE\"))\n"
   ]
  },
  {
   "cell_type": "code",
   "execution_count": 15,
   "id": "6d60e0fd-39ae-4a8d-9625-309edbcc36d6",
   "metadata": {},
   "outputs": [
    {
     "name": "stdout",
     "output_type": "stream",
     "text": [
      "   AGE BLOODGROUP GENDER\n",
      "0   21          A      F\n",
      "1   23          B      M\n",
      "2   22          O      F\n",
      "3   34          A      M\n",
      "4   33          A      M\n"
     ]
    }
   ],
   "source": [
    "# Dropping a column from the DataFrame\n",
    "df_dropped = df.drop(\"ID\", axis=1)\n",
    "print(df_dropped.head())\n"
   ]
  },
  {
   "cell_type": "code",
   "execution_count": 16,
   "id": "8e41becb-abe4-4419-bf23-9f165895a291",
   "metadata": {},
   "outputs": [
    {
     "name": "stdout",
     "output_type": "stream",
     "text": [
      "ID            0\n",
      "AGE           0\n",
      "BLOODGROUP    0\n",
      "GENDER        0\n",
      "dtype: int64\n",
      "   ID  AGE BLOODGROUP GENDER\n",
      "0   1   21          A      F\n",
      "1   2   23          B      M\n",
      "2   3   22          O      F\n",
      "3   4   34          A      M\n",
      "4   5   33          A      M\n"
     ]
    }
   ],
   "source": [
    "# Checking for missing values in the dataset\n",
    "print(df.isnull().sum())\n",
    "\n",
    "# Filling missing values with a default value\n",
    "df_filled = df.fillna(0)\n",
    "print(df_filled.head())\n"
   ]
  },
  {
   "cell_type": "code",
   "execution_count": 17,
   "id": "16dabbaa-f39b-45d7-bba3-890f856cf2bd",
   "metadata": {},
   "outputs": [
    {
     "name": "stdout",
     "output_type": "stream",
     "text": [
      "GENDER\n",
      "F    22.571429\n",
      "M    38.750000\n",
      "Name: AGE, dtype: float64\n"
     ]
    }
   ],
   "source": [
    "# Grouping data by a column and calculating the mean\n",
    "print(df.groupby(\"GENDER\")[\"AGE\"].mean())\n"
   ]
  },
  {
   "cell_type": "code",
   "execution_count": 20,
   "id": "1171cdfe-e3fb-45fc-9f13-cae0e817ef97",
   "metadata": {},
   "outputs": [],
   "source": [
    "#Working with JSON Files\n",
    "import json"
   ]
  },
  {
   "cell_type": "code",
   "execution_count": 21,
   "id": "254d3563-1991-4384-8e56-ac4ac88225a9",
   "metadata": {},
   "outputs": [
    {
     "name": "stdout",
     "output_type": "stream",
     "text": [
      "[{'ID': 1, 'AGE': 21, 'BLOODGROUP': 'A', 'GENDER': 'F'}, {'ID': 2, 'AGE': 23, 'BLOODGROUP': 'B', 'GENDER': 'M'}, {'ID': 3, 'AGE': 22, 'BLOODGROUP': 'O', 'GENDER': 'F'}, {'ID': 4, 'AGE': 34, 'BLOODGROUP': 'A', 'GENDER': 'M'}, {'ID': 5, 'AGE': 33, 'BLOODGROUP': 'A', 'GENDER': 'M'}, {'ID': 6, 'AGE': 43, 'BLOODGROUP': 'A', 'GENDER': 'M'}, {'ID': 7, 'AGE': 22, 'BLOODGROUP': 'AB', 'GENDER': 'F'}, {'ID': 8, 'AGE': 32, 'BLOODGROUP': 'O', 'GENDER': 'F'}, {'ID': 9, 'AGE': 32, 'BLOODGROUP': 'AB', 'GENDER': 'F'}, {'ID': 10, 'AGE': 22, 'BLOODGROUP': 'B', 'GENDER': 'M'}, {'ID': 11, 'AGE': 12, 'BLOODGROUP': 'B', 'GENDER': 'F'}, {'ID': 12, 'AGE': 17, 'BLOODGROUP': 'B', 'GENDER': 'F'}, {'ID': 13, 'AGE': 36, 'BLOODGROUP': 'O', 'GENDER': 'M'}, {'ID': 14, 'AGE': 76, 'BLOODGROUP': 'O', 'GENDER': 'M'}, {'ID': 15, 'AGE': 43, 'BLOODGROUP': 'O', 'GENDER': 'M'}]\n"
     ]
    }
   ],
   "source": [
    "# Reading JSON data from the file\n",
    "with open(\"lab14_dataset.json\", \"r\") as f:\n",
    "    loaded_data = json.load(f)\n",
    "\n",
    "# Printing the loaded data\n",
    "print(loaded_data)\n"
   ]
  },
  {
   "cell_type": "code",
   "execution_count": 22,
   "id": "fe6fa019-fefe-4ce1-85d6-c352ff5cca87",
   "metadata": {},
   "outputs": [
    {
     "name": "stdout",
     "output_type": "stream",
     "text": [
      "{\n",
      "    \"AGE\": [\n",
      "        21,\n",
      "        23,\n",
      "        22,\n",
      "        34,\n",
      "        33,\n",
      "        43,\n",
      "        22,\n",
      "        32,\n",
      "        32,\n",
      "        22,\n",
      "        12,\n",
      "        17,\n",
      "        36,\n",
      "        76,\n",
      "        43\n",
      "    ],\n",
      "    \"BLOODGROUP\": [\n",
      "        \"A\",\n",
      "        \"B\",\n",
      "        \"O\",\n",
      "        \"A\",\n",
      "        \"A\",\n",
      "        \"A\",\n",
      "        \"AB\",\n",
      "        \"O\",\n",
      "        \"AB\",\n",
      "        \"B\",\n",
      "        \"B\",\n",
      "        \"B\",\n",
      "        \"O\",\n",
      "        \"O\",\n",
      "        \"O\"\n",
      "    ],\n",
      "    \"GENDER\": [\n",
      "        \"F\",\n",
      "        \"M\",\n",
      "        \"F\",\n",
      "        \"M\",\n",
      "        \"M\",\n",
      "        \"M\",\n",
      "        \"F\",\n",
      "        \"F\",\n",
      "        \"F\",\n",
      "        \"M\",\n",
      "        \"F\",\n",
      "        \"F\",\n",
      "        \"M\",\n",
      "        \"M\",\n",
      "        \"M\"\n",
      "    ],\n",
      "    \"ID\": [\n",
      "        1,\n",
      "        2,\n",
      "        3,\n",
      "        4,\n",
      "        5,\n",
      "        6,\n",
      "        7,\n",
      "        8,\n",
      "        9,\n",
      "        10,\n",
      "        11,\n",
      "        12,\n",
      "        13,\n",
      "        14,\n",
      "        15\n",
      "    ]\n",
      "}\n"
     ]
    }
   ],
   "source": [
    "# Converting a Python dictionary into a JSON string (pretty printed)\n",
    "json_str = json.dumps(data, indent=4, sort_keys=True)\n",
    "print(json_str)\n"
   ]
  },
  {
   "cell_type": "code",
   "execution_count": 23,
   "id": "ed018a9d-4cdd-442f-9e63-d4b3b359f9b0",
   "metadata": {},
   "outputs": [
    {
     "name": "stdout",
     "output_type": "stream",
     "text": [
      "{'AGE': [21, 23, 22, 34, 33, 43, 22, 32, 32, 22, 12, 17, 36, 76, 43], 'BLOODGROUP': ['A', 'B', 'O', 'A', 'A', 'A', 'AB', 'O', 'AB', 'B', 'B', 'B', 'O', 'O', 'O'], 'GENDER': ['F', 'M', 'F', 'M', 'M', 'M', 'F', 'F', 'F', 'M', 'F', 'F', 'M', 'M', 'M'], 'ID': [1, 2, 3, 4, 5, 6, 7, 8, 9, 10, 11, 12, 13, 14, 15]}\n"
     ]
    }
   ],
   "source": [
    "# Converting a JSON string back into a Python dictionary\n",
    "dict_data = json.loads(json_str)\n",
    "print(dict_data)\n"
   ]
  },
  {
   "cell_type": "code",
   "execution_count": 24,
   "id": "0666a426-0ba4-4ab5-8ed8-819b8ee2d132",
   "metadata": {},
   "outputs": [],
   "source": [
    "#Working with Excel Files"
   ]
  },
  {
   "cell_type": "code",
   "execution_count": 25,
   "id": "d17b34dc-e607-4f75-b033-7b838a32a813",
   "metadata": {},
   "outputs": [
    {
     "name": "stdout",
     "output_type": "stream",
     "text": [
      "   ID  AGE BLOODGROUP GENDER\n",
      "0   1   21          A      F\n",
      "1   2   23          B      M\n",
      "2   3   22          O      F\n",
      "3   4   34          A      M\n",
      "4   5   33          A      M\n",
      "(15, 4)\n",
      "Index(['ID', 'AGE', 'BLOODGROUP', 'GENDER'], dtype='object')\n"
     ]
    }
   ],
   "source": [
    "# Reading data from an Excel file\n",
    "excel_df = pd.read_excel(\"lab14_dataset.xlsx\")\n",
    "\n",
    "# Printing the first 5 rows\n",
    "print(excel_df.head())\n",
    "\n",
    "# Getting dataset shape and columns\n",
    "print(excel_df.shape)\n",
    "print(excel_df.columns)\n"
   ]
  },
  {
   "cell_type": "code",
   "execution_count": 26,
   "id": "46994b05-167d-423d-bb6e-0ea09a82936e",
   "metadata": {},
   "outputs": [],
   "source": [
    "# Writing a DataFrame into a new Excel file\n",
    "excel_df.to_excel(\"output.xlsx\", index=False)\n"
   ]
  },
  {
   "cell_type": "code",
   "execution_count": 27,
   "id": "f438b7e0-31ca-411a-ab73-37cd6756dda5",
   "metadata": {},
   "outputs": [
    {
     "name": "stdout",
     "output_type": "stream",
     "text": [
      "    ID  AGE\n",
      "0    1   21\n",
      "1    2   23\n",
      "2    3   22\n",
      "3    4   34\n",
      "4    5   33\n",
      "5    6   43\n",
      "6    7   22\n",
      "7    8   32\n",
      "8    9   32\n",
      "9   10   22\n",
      "10  11   12\n",
      "11  12   17\n",
      "12  13   36\n",
      "13  14   76\n",
      "14  15   43\n",
      "    ID  AGE BLOODGROUP GENDER\n",
      "3    4   34          A      M\n",
      "4    5   33          A      M\n",
      "5    6   43          A      M\n",
      "7    8   32          O      F\n",
      "8    9   32         AB      F\n",
      "12  13   36          O      M\n",
      "13  14   76          O      M\n",
      "14  15   43          O      M\n"
     ]
    }
   ],
   "source": [
    "# Selecting specific columns\n",
    "print(excel_df[[\"ID\", \"AGE\"]])\n",
    "\n",
    "# Filtering rows where Age is greater than 25\n",
    "print(excel_df[excel_df[\"AGE\"] > 25])\n"
   ]
  },
  {
   "cell_type": "code",
   "execution_count": 28,
   "id": "2ccf0725-8427-4fad-8f5c-54e3fd57fdd1",
   "metadata": {},
   "outputs": [
    {
     "name": "stdout",
     "output_type": "stream",
     "text": [
      "['Sheet1']\n"
     ]
    }
   ],
   "source": [
    "# Getting all sheet names from an Excel file\n",
    "xls = pd.ExcelFile(\"lab14_dataset.xlsx\")\n",
    "print(xls.sheet_names)\n"
   ]
  },
  {
   "cell_type": "code",
   "execution_count": 29,
   "id": "d1acba36-db0a-4280-bbf3-173289e4a448",
   "metadata": {},
   "outputs": [
    {
     "name": "stdout",
     "output_type": "stream",
     "text": [
      "   ID  AGE BLOODGROUP GENDER\n",
      "0   1   21          A      F\n",
      "1   2   23          B      M\n",
      "2   3   22          O      F\n",
      "3   4   34          A      M\n",
      "4   5   33          A      M\n"
     ]
    }
   ],
   "source": [
    "# Reading data from a specific sheet in the Excel file\n",
    "sheet_df = pd.read_excel(\"lab14_dataset.xlsx\", sheet_name=\"Sheet1\")\n",
    "print(sheet_df.head())\n"
   ]
  },
  {
   "cell_type": "code",
   "execution_count": 30,
   "id": "52628295-2207-4390-b020-479f535b35ca",
   "metadata": {},
   "outputs": [
    {
     "name": "stdout",
     "output_type": "stream",
     "text": [
      "ID            0\n",
      "AGE           0\n",
      "BLOODGROUP    0\n",
      "GENDER        0\n",
      "dtype: int64\n",
      "   ID  AGE BLOODGROUP GENDER\n",
      "0   1   21          A      F\n",
      "1   2   23          B      M\n",
      "2   3   22          O      F\n",
      "3   4   34          A      M\n",
      "4   5   33          A      M\n"
     ]
    }
   ],
   "source": [
    "# Handling missing values in Excel data\n",
    "print(excel_df.isnull().sum())\n",
    "excel_filled = excel_df.fillna(\"Unknown\")\n",
    "print(excel_filled.head())\n"
   ]
  },
  {
   "cell_type": "code",
   "execution_count": 31,
   "id": "7ad37320-ec3f-4771-ae4f-b20b6530b10e",
   "metadata": {},
   "outputs": [
    {
     "name": "stdout",
     "output_type": "stream",
     "text": [
      "              AGE\n",
      "GENDER           \n",
      "F       22.571429\n",
      "M       38.750000\n"
     ]
    }
   ],
   "source": [
    "# Creating a pivot table from Excel data (average Age by Gender)\n",
    "pivot = excel_df.pivot_table(values=\"AGE\", index=\"GENDER\", aggfunc=\"mean\")\n",
    "print(pivot)\n"
   ]
  },
  {
   "cell_type": "code",
   "execution_count": null,
   "id": "7fa0dd70-9c43-45ed-8f3d-2208d14039b9",
   "metadata": {},
   "outputs": [],
   "source": []
  }
 ],
 "metadata": {
  "kernelspec": {
   "display_name": "Python 3 (ipykernel)",
   "language": "python",
   "name": "python3"
  },
  "language_info": {
   "codemirror_mode": {
    "name": "ipython",
    "version": 3
   },
   "file_extension": ".py",
   "mimetype": "text/x-python",
   "name": "python",
   "nbconvert_exporter": "python",
   "pygments_lexer": "ipython3",
   "version": "3.12.1"
  }
 },
 "nbformat": 4,
 "nbformat_minor": 5
}
