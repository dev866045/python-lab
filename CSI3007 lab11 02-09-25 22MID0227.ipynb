{
 "cells": [
  {
   "cell_type": "code",
   "execution_count": 5,
   "id": "5c67989e-19e0-4303-951c-9f450573a46e",
   "metadata": {},
   "outputs": [
    {
     "name": "stdout",
     "output_type": "stream",
     "text": [
      "Sleeping 1 second...\n",
      "Done Sleeping\n",
      "Finished in 1.01 seconds\n"
     ]
    }
   ],
   "source": [
    "# 1. Simple Function without Threading\n",
    "import time\n",
    "\n",
    "start = time.perf_counter()  # Starts time\n",
    "\n",
    "def do_something():\n",
    "    print(\"Sleeping 1 second...\")\n",
    "    time.sleep(1)  # Pauses execution for 1 second\n",
    "    print(\"Done Sleeping\")\n",
    "\n",
    "do_something()  # Runs once\n",
    "\n",
    "finish = time.perf_counter()  # Ends time\n",
    "print(f\"Finished in {round(finish-start,2)} seconds\")\n"
   ]
  },
  {
   "cell_type": "code",
   "execution_count": 6,
   "id": "36ca7ee9-d785-4daa-a9e9-9d0d27902ceb",
   "metadata": {},
   "outputs": [
    {
     "name": "stdout",
     "output_type": "stream",
     "text": [
      "Sleeping 1 second...\n",
      "Done Sleeping\n",
      "Sleeping 1 second...\n",
      "Done Sleeping\n",
      "Finished in 2.01 seconds\n"
     ]
    }
   ],
   "source": [
    "# 2. Running Function Twice Without Threads\n",
    "import time\n",
    "\n",
    "start = time.perf_counter()\n",
    "\n",
    "def do_something():\n",
    "    print(\"Sleeping 1 second...\")\n",
    "    time.sleep(1)\n",
    "    print(\"Done Sleeping\")\n",
    "\n",
    "do_something()\n",
    "do_something()\n",
    "\n",
    "finish = time.perf_counter()\n",
    "print(f\"Finished in {round(finish-start,2)} seconds\")  # Takes ~2 seconds\n"
   ]
  },
  {
   "cell_type": "code",
   "execution_count": 7,
   "id": "63d1c263-55ae-4ca9-98f7-f0b342001333",
   "metadata": {},
   "outputs": [
    {
     "name": "stdout",
     "output_type": "stream",
     "text": [
      "Sleeping 1 second...\n",
      "Sleeping 1 second...\n",
      "Finished in 0.01 seconds\n",
      "Done SleepingDone Sleeping\n",
      "\n"
     ]
    }
   ],
   "source": [
    "# 3. Starting Threads (Without join)\n",
    "\n",
    "import threading\n",
    "import time\n",
    "\n",
    "start = time.perf_counter()\n",
    "\n",
    "def do_something():\n",
    "    print(\"Sleeping 1 second...\")\n",
    "    time.sleep(1)\n",
    "    print(\"Done Sleeping\")\n",
    "\n",
    "# Creating threads\n",
    "t1 = threading.Thread(target=do_something)\n",
    "t2 = threading.Thread(target=do_something)\n",
    "\n",
    "t1.start()\n",
    "t2.start()\n",
    "\n",
    "finish = time.perf_counter()\n",
    "print(f\"Finished in {round(finish-start,2)} seconds\")  \n",
    "# Program moves ahead before threads finish\n"
   ]
  },
  {
   "cell_type": "code",
   "execution_count": 8,
   "id": "07278c95-7d66-40c1-bd6c-79a742067cb8",
   "metadata": {},
   "outputs": [
    {
     "name": "stdout",
     "output_type": "stream",
     "text": [
      "Sleeping 1 second...Sleeping 1 second...\n",
      "\n",
      "Done Sleeping\n",
      "Done Sleeping\n",
      "Finished in 1.0 seconds\n"
     ]
    }
   ],
   "source": [
    "# 4. Using join() to Wait for Threads\n",
    "\n",
    "import threading\n",
    "import time\n",
    "\n",
    "start = time.perf_counter()\n",
    "\n",
    "def do_something():\n",
    "    print(\"Sleeping 1 second...\")\n",
    "    time.sleep(1)\n",
    "    print(\"Done Sleeping\")\n",
    "\n",
    "# Creating threads\n",
    "t1 = threading.Thread(target=do_something)\n",
    "t2 = threading.Thread(target=do_something)\n",
    "\n",
    "t1.start()\n",
    "t2.start()\n",
    "\n",
    "# Wait for both threads to finish\n",
    "t1.join()\n",
    "t2.join()\n",
    "\n",
    "finish = time.perf_counter()\n",
    "print(f\"Finished in {round(finish-start,2)} seconds\")  # ~1 second\n"
   ]
  },
  {
   "cell_type": "code",
   "execution_count": 9,
   "id": "4d5d9e12-58c7-4d8e-b047-1c33179d50a4",
   "metadata": {},
   "outputs": [
    {
     "name": "stdout",
     "output_type": "stream",
     "text": [
      "Sleeping 1 second...Sleeping 1 second...\n",
      "Sleeping 1 second...\n",
      "\n",
      "Sleeping 1 second...\n",
      "Sleeping 1 second...\n",
      "Sleeping 1 second...\n",
      "Sleeping 1 second...\n",
      "Sleeping 1 second...\n",
      "Sleeping 1 second...\n",
      "Sleeping 1 second...\n",
      "Done Sleeping\n",
      "Done Sleeping\n",
      "Done Sleeping\n",
      "Done Sleeping\n",
      "Done Sleeping\n",
      "Done Sleeping\n",
      "Done Sleeping\n",
      "Done Sleeping\n",
      "Done Sleeping\n",
      "Done Sleeping\n",
      "Finished in 1.01 seconds\n"
     ]
    }
   ],
   "source": [
    "# 5. Multiple Threads Using a Loop\n",
    "\n",
    "import threading\n",
    "import time\n",
    "\n",
    "start = time.perf_counter()\n",
    "\n",
    "def do_something():\n",
    "    print(\"Sleeping 1 second...\")\n",
    "    time.sleep(1)\n",
    "    print(\"Done Sleeping\")\n",
    "\n",
    "threads = []\n",
    "\n",
    "# Start 10 threads\n",
    "for _ in range(10):\n",
    "    t = threading.Thread(target=do_something)\n",
    "    t.start()\n",
    "    threads.append(t)\n",
    "\n",
    "# Wait for all threads\n",
    "for thread in threads:\n",
    "    thread.join()\n",
    "\n",
    "finish = time.perf_counter()\n",
    "print(f\"Finished in {round(finish-start,2)} seconds\")  # ~1 second\n"
   ]
  },
  {
   "cell_type": "code",
   "execution_count": 10,
   "id": "ab087c07-a1b2-479d-bb17-4b59bf5c860d",
   "metadata": {},
   "outputs": [
    {
     "name": "stdout",
     "output_type": "stream",
     "text": [
      "Sleeping 1.5 second(s)...Sleeping 1.5 second(s)...\n",
      "Sleeping 1.5 second(s)...\n",
      "Sleeping 1.5 second(s)...\n",
      "\n",
      "Sleeping 1.5 second(s)...\n",
      "Sleeping 1.5 second(s)...\n",
      "Sleeping 1.5 second(s)...\n",
      "Sleeping 1.5 second(s)...\n",
      "Sleeping 1.5 second(s)...\n",
      "Sleeping 1.5 second(s)...\n",
      "Done Sleeping\n",
      "Done Sleeping\n",
      "Done Sleeping\n",
      "Done Sleeping\n",
      "Done Sleeping\n",
      "Done Sleeping\n",
      "Done Sleeping\n",
      "Done Sleeping\n",
      "Done Sleeping\n",
      "Done Sleeping\n",
      "Finished in 1.51 seconds\n"
     ]
    }
   ],
   "source": [
    "# 6. Threads with Function Arguments\n",
    "\n",
    "import threading\n",
    "import time\n",
    "\n",
    "start = time.perf_counter()\n",
    "\n",
    "def do_something(seconds):\n",
    "    print(f\"Sleeping {seconds} second(s)...\")\n",
    "    time.sleep(seconds)\n",
    "    print(\"Done Sleeping\")\n",
    "\n",
    "threads = []\n",
    "\n",
    "for _ in range(10):\n",
    "    t = threading.Thread(target=do_something, args=[1.5])  # Pass 1.5 as argument\n",
    "    t.start()\n",
    "    threads.append(t)\n",
    "\n",
    "for thread in threads:\n",
    "    thread.join()\n",
    "\n",
    "finish = time.perf_counter()\n",
    "print(f\"Finished in {round(finish-start,2)} seconds\")  # ~1.5 seconds\n"
   ]
  },
  {
   "cell_type": "code",
   "execution_count": 11,
   "id": "ef8adb79-4d24-4138-8c4b-7a869fa70901",
   "metadata": {},
   "outputs": [
    {
     "name": "stdout",
     "output_type": "stream",
     "text": [
      "Sleeping 1 second(s)...\n",
      "Sleeping 1 second(s)...\n",
      "Sleeping 1 second(s)...\n",
      "Sleeping 1 second(s)...\n",
      "Sleeping 1 second(s)...\n",
      "Done Sleeping for 1 sec\n",
      "Done Sleeping for 1 sec\n",
      "Done Sleeping for 1 sec\n",
      "Done Sleeping for 1 sec\n",
      "Done Sleeping for 1 sec\n",
      "Finished in 1.01 seconds\n"
     ]
    }
   ],
   "source": [
    "# 7. ThreadPoolExecutor (Cleaner Way)\n",
    "\n",
    "import concurrent.futures\n",
    "import time\n",
    "\n",
    "start = time.perf_counter()\n",
    "\n",
    "def do_something(seconds):\n",
    "    print(f\"Sleeping {seconds} second(s)...\")\n",
    "    time.sleep(seconds)\n",
    "    return f\"Done Sleeping for {seconds} sec\"\n",
    "\n",
    "with concurrent.futures.ThreadPoolExecutor() as executor:\n",
    "    results = [executor.submit(do_something, 1) for _ in range(5)]  # 5 threads\n",
    "\n",
    "    for f in concurrent.futures.as_completed(results):\n",
    "        print(f.result())\n",
    "\n",
    "finish = time.perf_counter()\n",
    "print(f\"Finished in {round(finish-start,2)} seconds\")\n"
   ]
  },
  {
   "cell_type": "code",
   "execution_count": 14,
   "id": "c1247563-4faf-4ec5-9cfb-fa9a6802713c",
   "metadata": {},
   "outputs": [
    {
     "name": "stdout",
     "output_type": "stream",
     "text": [
      "Dev35\n",
      "\n",
      "Nandan\n",
      "29\n",
      "Kala\n",
      "27\n",
      "Bhairav\n",
      "27\n"
     ]
    }
   ],
   "source": [
    "# 8. Printing Names and Ages in Threads\n",
    "\n",
    "import threading\n",
    "import time\n",
    "import random\n",
    "\n",
    "# Function to print names\n",
    "def print_names():\n",
    "    for name in ('Dev', 'Nandan', 'Kala', 'Bhairav'):\n",
    "        print(name)\n",
    "        time.sleep(random.uniform(0.5, 1.5))  # Sleep between 0.5–1.5 sec\n",
    "\n",
    "# Function to print random ages\n",
    "def print_ages():\n",
    "    for _ in range(4):\n",
    "        print(random.randint(20, 50))\n",
    "        time.sleep(random.uniform(0.5, 1.5))\n",
    "\n",
    "# Creating threads\n",
    "t1 = threading.Thread(target=print_names)\n",
    "t2 = threading.Thread(target=print_ages)\n",
    "\n",
    "t1.start()\n",
    "t2.start()\n",
    "\n",
    "t1.join()\n",
    "t2.join()\n"
   ]
  },
  {
   "cell_type": "code",
   "execution_count": 15,
   "id": "c616566e-a957-4703-a077-e7f7b7493e88",
   "metadata": {},
   "outputs": [
    {
     "name": "stdout",
     "output_type": "stream",
     "text": [
      "Sleeping [5, 4, 3, 2, 1] second(s)...Sleeping [5, 4, 3, 2, 1] second(s)...\n",
      "\n",
      "Sleeping [5, 4, 3, 2, 1] second(s)...\n",
      "Sleeping [5, 4, 3, 2, 1] second(s)...\n",
      "Sleeping [5, 4, 3, 2, 1] second(s)...\n"
     ]
    },
    {
     "ename": "TypeError",
     "evalue": "'list' object cannot be interpreted as an integer",
     "output_type": "error",
     "traceback": [
      "\u001b[31m---------------------------------------------------------------------------\u001b[39m",
      "\u001b[31mTypeError\u001b[39m                                 Traceback (most recent call last)",
      "\u001b[36mCell\u001b[39m\u001b[36m \u001b[39m\u001b[32mIn[15]\u001b[39m\u001b[32m, line 12\u001b[39m\n\u001b[32m     10\u001b[39m     results = [executor.submit(do_something, s) \u001b[38;5;28;01mfor\u001b[39;00m sec \u001b[38;5;129;01min\u001b[39;00m s] \u001b[38;5;66;03m#list comprehension, a\u001b[39;00m\n\u001b[32m     11\u001b[39m     \u001b[38;5;28;01mfor\u001b[39;00m f \u001b[38;5;129;01min\u001b[39;00m concurrent.futures.as_completed(results):\n\u001b[32m---> \u001b[39m\u001b[32m12\u001b[39m         \u001b[38;5;28mprint\u001b[39m(\u001b[43mf\u001b[49m\u001b[43m.\u001b[49m\u001b[43mresult\u001b[49m\u001b[43m(\u001b[49m\u001b[43m)\u001b[49m)\n\u001b[32m     13\u001b[39m finish = time.perf_counter()\n\u001b[32m     14\u001b[39m \u001b[38;5;28mprint\u001b[39m(\u001b[33mf\u001b[39m\u001b[33m'\u001b[39m\u001b[33mFinished in \u001b[39m\u001b[38;5;132;01m{\u001b[39;00m\u001b[38;5;28mround\u001b[39m(finish-start,\u001b[32m2\u001b[39m)\u001b[38;5;132;01m}\u001b[39;00m\u001b[33m seconds\u001b[39m\u001b[33m'\u001b[39m)\n",
      "\u001b[36mFile \u001b[39m\u001b[32m/Library/Frameworks/Python.framework/Versions/3.12/lib/python3.12/concurrent/futures/_base.py:449\u001b[39m, in \u001b[36mFuture.result\u001b[39m\u001b[34m(self, timeout)\u001b[39m\n\u001b[32m    447\u001b[39m     \u001b[38;5;28;01mraise\u001b[39;00m CancelledError()\n\u001b[32m    448\u001b[39m \u001b[38;5;28;01melif\u001b[39;00m \u001b[38;5;28mself\u001b[39m._state == FINISHED:\n\u001b[32m--> \u001b[39m\u001b[32m449\u001b[39m     \u001b[38;5;28;01mreturn\u001b[39;00m \u001b[38;5;28;43mself\u001b[39;49m\u001b[43m.\u001b[49m\u001b[43m__get_result\u001b[49m\u001b[43m(\u001b[49m\u001b[43m)\u001b[49m\n\u001b[32m    451\u001b[39m \u001b[38;5;28mself\u001b[39m._condition.wait(timeout)\n\u001b[32m    453\u001b[39m \u001b[38;5;28;01mif\u001b[39;00m \u001b[38;5;28mself\u001b[39m._state \u001b[38;5;129;01min\u001b[39;00m [CANCELLED, CANCELLED_AND_NOTIFIED]:\n",
      "\u001b[36mFile \u001b[39m\u001b[32m/Library/Frameworks/Python.framework/Versions/3.12/lib/python3.12/concurrent/futures/_base.py:401\u001b[39m, in \u001b[36mFuture.__get_result\u001b[39m\u001b[34m(self)\u001b[39m\n\u001b[32m    399\u001b[39m \u001b[38;5;28;01mif\u001b[39;00m \u001b[38;5;28mself\u001b[39m._exception:\n\u001b[32m    400\u001b[39m     \u001b[38;5;28;01mtry\u001b[39;00m:\n\u001b[32m--> \u001b[39m\u001b[32m401\u001b[39m         \u001b[38;5;28;01mraise\u001b[39;00m \u001b[38;5;28mself\u001b[39m._exception\n\u001b[32m    402\u001b[39m     \u001b[38;5;28;01mfinally\u001b[39;00m:\n\u001b[32m    403\u001b[39m         \u001b[38;5;66;03m# Break a reference cycle with the exception in self._exception\u001b[39;00m\n\u001b[32m    404\u001b[39m         \u001b[38;5;28mself\u001b[39m = \u001b[38;5;28;01mNone\u001b[39;00m\n",
      "\u001b[36mFile \u001b[39m\u001b[32m/Library/Frameworks/Python.framework/Versions/3.12/lib/python3.12/concurrent/futures/thread.py:58\u001b[39m, in \u001b[36m_WorkItem.run\u001b[39m\u001b[34m(self)\u001b[39m\n\u001b[32m     55\u001b[39m     \u001b[38;5;28;01mreturn\u001b[39;00m\n\u001b[32m     57\u001b[39m \u001b[38;5;28;01mtry\u001b[39;00m:\n\u001b[32m---> \u001b[39m\u001b[32m58\u001b[39m     result = \u001b[38;5;28;43mself\u001b[39;49m\u001b[43m.\u001b[49m\u001b[43mfn\u001b[49m\u001b[43m(\u001b[49m\u001b[43m*\u001b[49m\u001b[38;5;28;43mself\u001b[39;49m\u001b[43m.\u001b[49m\u001b[43margs\u001b[49m\u001b[43m,\u001b[49m\u001b[43m \u001b[49m\u001b[43m*\u001b[49m\u001b[43m*\u001b[49m\u001b[38;5;28;43mself\u001b[39;49m\u001b[43m.\u001b[49m\u001b[43mkwargs\u001b[49m\u001b[43m)\u001b[49m\n\u001b[32m     59\u001b[39m \u001b[38;5;28;01mexcept\u001b[39;00m \u001b[38;5;167;01mBaseException\u001b[39;00m \u001b[38;5;28;01mas\u001b[39;00m exc:\n\u001b[32m     60\u001b[39m     \u001b[38;5;28mself\u001b[39m.future.set_exception(exc)\n",
      "\u001b[36mCell\u001b[39m\u001b[36m \u001b[39m\u001b[32mIn[15]\u001b[39m\u001b[32m, line 6\u001b[39m, in \u001b[36mdo_something\u001b[39m\u001b[34m(seconds)\u001b[39m\n\u001b[32m      4\u001b[39m \u001b[38;5;28;01mdef\u001b[39;00m\u001b[38;5;250m \u001b[39m\u001b[34mdo_something\u001b[39m(seconds):\n\u001b[32m      5\u001b[39m     \u001b[38;5;28mprint\u001b[39m(\u001b[33mf\u001b[39m\u001b[33m'\u001b[39m\u001b[33mSleeping \u001b[39m\u001b[38;5;132;01m{\u001b[39;00mseconds\u001b[38;5;132;01m}\u001b[39;00m\u001b[33m second(s)...\u001b[39m\u001b[33m'\u001b[39m)\n\u001b[32m----> \u001b[39m\u001b[32m6\u001b[39m     \u001b[43mtime\u001b[49m\u001b[43m.\u001b[49m\u001b[43msleep\u001b[49m\u001b[43m(\u001b[49m\u001b[43mseconds\u001b[49m\u001b[43m)\u001b[49m\n\u001b[32m      7\u001b[39m     \u001b[38;5;28;01mreturn\u001b[39;00m \u001b[33mf\u001b[39m\u001b[33m'\u001b[39m\u001b[33mDone Sleeping...\u001b[39m\u001b[38;5;132;01m{\u001b[39;00mseconds\u001b[38;5;132;01m}\u001b[39;00m\u001b[33m'\u001b[39m\n",
      "\u001b[31mTypeError\u001b[39m: 'list' object cannot be interpreted as an integer"
     ]
    }
   ],
   "source": [
    "import concurrent.futures\n",
    "import time\n",
    "start = time.perf_counter()\n",
    "def do_something(seconds):\n",
    "    print(f'Sleeping {seconds} second(s)...')\n",
    "    time.sleep(seconds)\n",
    "    return f'Done Sleeping...{seconds}'\n",
    "with concurrent.futures.ThreadPoolExecutor() as executor:\n",
    "    s = [5,4,3,2,1] #different sleeping time for threads\n",
    "    results = [executor.submit(do_something, s) for sec in s] #list comprehension, a\n",
    "    for f in concurrent.futures.as_completed(results):\n",
    "        print(f.result())\n",
    "finish = time.perf_counter()\n",
    "print(f'Finished in {round(finish-start,2)} seconds')"
   ]
  },
  {
   "cell_type": "code",
   "execution_count": 17,
   "id": "7ce73fa9-89a5-47c0-aa74-736041cf0ba4",
   "metadata": {},
   "outputs": [
    {
     "name": "stdout",
     "output_type": "stream",
     "text": [
      "Sleeping 5 second(s)...Sleeping 4 second(s)...\n",
      "\n",
      "Sleeping 3 second(s)...\n",
      "Sleeping 2 second(s)...\n",
      "Sleeping 1 second(s)...\n",
      "Done Sleeping...1\n",
      "Done Sleeping...2\n",
      "Done Sleeping...3\n",
      "Done Sleeping...4\n",
      "Done Sleeping...5\n",
      "Finished in 5.0 seconds\n"
     ]
    }
   ],
   "source": [
    "# ThreadPoolExecutor with varying sleep times\n",
    "# (FIXED: pass 'sec' to submit, not the whole list)\n",
    "import concurrent.futures\n",
    "import time\n",
    "\n",
    "start = time.perf_counter()  # start timing\n",
    "\n",
    "def do_something(seconds):\n",
    "    \"\"\"Simulate an I/O-bound task by sleeping.\"\"\"\n",
    "    print(f\"Sleeping {seconds} second(s)...\")  # showing which task started\n",
    "    time.sleep(seconds)                        # simulating work\n",
    "    return f\"Done Sleeping...{seconds}\"        # result returned by the task\n",
    "\n",
    "with concurrent.futures.ThreadPoolExecutor() as executor:\n",
    "    s = [5, 4, 3, 2, 1]  # different sleep times for each thread\n",
    "\n",
    "    # FIX: use 'sec' from the loop; the original code mistakenly passed 's'\n",
    "    futures = [executor.submit(do_something, sec) for sec in s]\n",
    "\n",
    "    # Print results as each future completes (fastest finishes first)\n",
    "    for f in concurrent.futures.as_completed(futures):\n",
    "        print(f.result())\n",
    "\n",
    "finish = time.perf_counter()  # end timing\n",
    "print(f\"Finished in {round(finish - start, 2)} seconds\")\n"
   ]
  },
  {
   "cell_type": "code",
   "execution_count": 19,
   "id": "77d5c3d5-b9e5-4674-a164-45e88d3273d1",
   "metadata": {},
   "outputs": [
    {
     "name": "stdout",
     "output_type": "stream",
     "text": [
      "Downloading https://raw.githubusercontent.com/dev866045/python-lab/main/CSI3007 lab10 26-08-25 22MID0227.ipynb -> Downloads/CSI3007 lab10 26-08-25 22MID0227.ipynbDownloading https://raw.githubusercontent.com/dev866045/python-lab/main/CSI3007 lab6 2-8-25 22MID0227.ipynb -> Downloads/CSI3007 lab6 2-8-25 22MID0227.ipynb\n",
      "\n",
      "Downloading https://raw.githubusercontent.com/dev866045/python-lab/main/CSI3007 lab7 05-08-25 22MID0227.ipynb -> Downloads/CSI3007 lab7 05-08-25 22MID0227.ipynb\n",
      "Downloading https://raw.githubusercontent.com/dev866045/python-lab/main/CSI3007 lab9 12-08-25 22MID0227.ipynb -> Downloads/CSI3007 lab9 12-08-25 22MID0227.ipynb\n",
      "Downloading https://raw.githubusercontent.com/dev866045/python-lab/main/LAB22725.ipynb -> Downloads/LAB22725.ipynb\n",
      "Downloading https://raw.githubusercontent.com/dev866045/python-lab/main/Lab 1 errors.pdf -> Downloads/Lab 1 errors.pdf\n",
      "Downloading https://raw.githubusercontent.com/dev866045/python-lab/main/Lab 2.pdf -> Downloads/Lab 2.pdf\n",
      "Downloading https://raw.githubusercontent.com/dev866045/python-lab/main/Lab 5 documentation.docx -> Downloads/Lab 5 documentation.docx\n",
      "Downloading https://raw.githubusercontent.com/dev866045/python-lab/main/lab 4.ipynb -> Downloads/lab 4.ipynb\n",
      "Downloading https://raw.githubusercontent.com/dev866045/python-lab/main/lab1.ipynb -> Downloads/lab1.ipynb\n",
      "Downloading https://raw.githubusercontent.com/dev866045/python-lab/main/lab25-7-25.ipynb -> Downloads/lab25-7-25.ipynb\n",
      "Downloading https://raw.githubusercontent.com/dev866045/python-lab/main/lab5 group activity(legal sector).ipynb -> Downloads/lab5 group activity(legal sector).ipynb\n",
      "Downloading https://raw.githubusercontent.com/dev866045/python-lab/main/lab5.ipynb -> Downloads/lab5.ipynb\n",
      "Finished Downloading Downloads/CSI3007 lab6 2-8-25 22MID0227.ipynb\n",
      "Finished Downloading Downloads/CSI3007 lab7 05-08-25 22MID0227.ipynb\n",
      "Finished Downloading Downloads/CSI3007 lab9 12-08-25 22MID0227.ipynb\n",
      "Finished Downloading Downloads/LAB22725.ipynb\n",
      "Finished Downloading Downloads/lab 4.ipynb\n",
      "Finished Downloading Downloads/lab1.ipynb\n",
      "Finished Downloading Downloads/lab25-7-25.ipynb\n",
      "Finished Downloading Downloads/lab5.ipynb\n",
      "Finished Downloading Downloads/lab5 group activity(legal sector).ipynb\n",
      "Finished Downloading Downloads/Lab 5 documentation.docx\n",
      "Finished Downloading Downloads/Lab 1 errors.pdf\n",
      "Finished Downloading Downloads/CSI3007 lab10 26-08-25 22MID0227.ipynb\n",
      "Finished Downloading Downloads/Lab 2.pdf\n",
      "✅ All repo files downloaded successfully!\n"
     ]
    }
   ],
   "source": [
    "# Multi-threaded GitHub Repo Downloader\n",
    "\n",
    "import threading\n",
    "import requests\n",
    "from pathlib import Path\n",
    "import os\n",
    "\n",
    "# Ensuring Downloads folder exists\n",
    "os.makedirs(\"Downloads\", exist_ok=True)\n",
    "\n",
    "# Function to download a single file\n",
    "def download_file(url, filename):\n",
    "    \"\"\"Download a file from a URL and save it locally.\"\"\"\n",
    "    print(f\"Downloading {url} -> {filename}\")\n",
    "    response = requests.get(url)\n",
    "    Path(filename).write_bytes(response.content)\n",
    "    print(f\"Finished Downloading {filename}\")\n",
    "\n",
    "# Your GitHub repo info\n",
    "username = \"dev866045\"\n",
    "repo = \"python-lab\"\n",
    "branch = \"main\"  # change to \"master\" if repo uses master branch\n",
    "\n",
    "# GitHub API URL to list repo contents\n",
    "api_url = f\"https://api.github.com/repos/{username}/{repo}/contents\"\n",
    "\n",
    "# Fetch file list from GitHub API\n",
    "response = requests.get(api_url)\n",
    "if response.status_code != 200:\n",
    "    raise Exception(f\"GitHub API error: {response.status_code}\")\n",
    "\n",
    "files = response.json()\n",
    "\n",
    "threads = []\n",
    "for file in files:\n",
    "    if file[\"type\"] == \"file\":  # only download files, skip folders\n",
    "        raw_url = f\"https://raw.githubusercontent.com/{username}/{repo}/{branch}/{file['name']}\"\n",
    "        filename = \"Downloads/\" + file[\"name\"]\n",
    "\n",
    "        # Start a thread for each file\n",
    "        t = threading.Thread(target=download_file, args=(raw_url, filename))\n",
    "        t.start()\n",
    "        threads.append(t)\n",
    "\n",
    "# Wait for all downloads to finish\n",
    "for t in threads:\n",
    "    t.join()\n",
    "\n",
    "print(\"✅ All repo files downloaded successfully!\")\n"
   ]
  },
  {
   "cell_type": "code",
   "execution_count": null,
   "id": "f5bcbcbd-c638-4b51-9577-76518fb422ef",
   "metadata": {},
   "outputs": [],
   "source": []
  }
 ],
 "metadata": {
  "kernelspec": {
   "display_name": "Python 3 (ipykernel)",
   "language": "python",
   "name": "python3"
  },
  "language_info": {
   "codemirror_mode": {
    "name": "ipython",
    "version": 3
   },
   "file_extension": ".py",
   "mimetype": "text/x-python",
   "name": "python",
   "nbconvert_exporter": "python",
   "pygments_lexer": "ipython3",
   "version": "3.12.1"
  }
 },
 "nbformat": 4,
 "nbformat_minor": 5
}
