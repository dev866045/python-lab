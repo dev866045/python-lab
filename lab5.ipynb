{
 "cells": [
  {
   "cell_type": "code",
   "execution_count": 1,
   "id": "58d26f81-5163-48cb-90ee-dedbc70ddbb8",
   "metadata": {},
   "outputs": [
    {
     "name": "stdout",
     "output_type": "stream",
     "text": [
      "1\n",
      "3\n",
      "5\n",
      "7\n"
     ]
    }
   ],
   "source": [
    "odds = [1, 3, 5, 7]\n",
    "\n",
    "# Unpacking the list: 'a' gets 1, 'b' gets 3, 'c' gets 5, and 'd' gets 7\n",
    "a, b, c, d = odds\n",
    "print(a)  # 1\n",
    "print(b)  # 3\n",
    "print(c)  # 5\n",
    "print(d)  # 7\n"
   ]
  },
  {
   "cell_type": "code",
   "execution_count": 2,
   "id": "cc8ee7ec-dc08-4996-b796-dd4d31dbf8c7",
   "metadata": {},
   "outputs": [
    {
     "name": "stdout",
     "output_type": "stream",
     "text": [
      "1\n",
      "3\n",
      "[5, 7]\n"
     ]
    }
   ],
   "source": [
    "odds = [1, 3, 5, 7]\n",
    "\n",
    "# 'a' gets 1, 'b' gets 3, and the rest (5, 7) go into list 'c'\n",
    "a, b, *c = odds\n",
    "print(a)  # 1\n",
    "print(b)  # 3\n",
    "print(c)  # [5, 7] — a list containing the remaining elements\n"
   ]
  },
  {
   "cell_type": "code",
   "execution_count": 3,
   "id": "206ff757-177f-4e90-b7fd-abe5678369b9",
   "metadata": {},
   "outputs": [
    {
     "name": "stdout",
     "output_type": "stream",
     "text": [
      "3\n",
      "[5, 7]\n",
      "9\n"
     ]
    }
   ],
   "source": [
    "# Here we unpack 3 elements: \n",
    "# 'a' gets the first item (3), \n",
    "# '*b' captures the middle items (5, 7),\n",
    "# and 'c' gets the last item (9)\n",
    "a, *b, c = [3, 5, 7, 9]\n",
    "print(a)  # 3\n",
    "print(b)  # [5, 7]\n",
    "print(c)  # 9\n"
   ]
  },
  {
   "cell_type": "code",
   "execution_count": 4,
   "id": "e6052957-8f01-436f-ba33-a6da53cb47f2",
   "metadata": {},
   "outputs": [
    {
     "name": "stdout",
     "output_type": "stream",
     "text": [
      "9\n"
     ]
    }
   ],
   "source": [
    "# A simple function that adds three numbers\n",
    "def a(x, y, z):\n",
    "    return (x + y + z)\n",
    "\n",
    "odds = [1, 3, 5]\n",
    "\n",
    "# Unpacks the list and sends it as arguments: a(1, 3, 5)\n",
    "print(a(*odds))  # 9\n"
   ]
  },
  {
   "cell_type": "code",
   "execution_count": 5,
   "id": "2f5c1c9f-0cbe-49a7-86dd-dd7d772fb327",
   "metadata": {},
   "outputs": [
    {
     "name": "stdout",
     "output_type": "stream",
     "text": [
      "hello,dev\n",
      "hello,harshini\n",
      "hello,riya\n"
     ]
    }
   ],
   "source": [
    "# A function that says hello to each name in the list\n",
    "def say_hi(*names):  # *names means it can take any number of names\n",
    "    for n in names:\n",
    "        print(f\"hello,{n}\")\n",
    "\n",
    "say_hi(\"dev\", \"harshini\", \"riya\")\n",
    "# Output:\n",
    "# hello,dev\n",
    "# hello,harshini\n",
    "# hello,riya\n"
   ]
  },
  {
   "cell_type": "code",
   "execution_count": 6,
   "id": "b8d7efb7-2f5e-465a-bbe7-24696941b429",
   "metadata": {},
   "outputs": [
    {
     "name": "stdout",
     "output_type": "stream",
     "text": [
      "alice\n",
      "30\n"
     ]
    }
   ],
   "source": [
    "# A dictionary with two key-value pairs\n",
    "person = {\"name\": \"alice\", \"age\": 30}\n",
    "\n",
    "# person.values() gives us ['alice', 30]\n",
    "name, age = person.values()\n",
    "\n",
    "print(name)  # alice\n",
    "print(age)   # 30\n"
   ]
  },
  {
   "cell_type": "code",
   "execution_count": 7,
   "id": "065f36c1-ca4e-4cde-beb7-d8f05fd3d70d",
   "metadata": {},
   "outputs": [
    {
     "name": "stdout",
     "output_type": "stream",
     "text": [
      "{'name': 'dev', 'age': 30}\n"
     ]
    }
   ],
   "source": [
    "# Another way to create a dictionary\n",
    "dic = {}\n",
    "dic[\"name\"] = \"dev\"\n",
    "dic[\"age\"] = 30\n",
    "\n",
    "print(dic)  \n",
    "# Output: {'name': 'dev', 'age': 30}\n"
   ]
  },
  {
   "cell_type": "code",
   "execution_count": null,
   "id": "4fe11cef-9a21-486b-ae7f-c0a6dd9bc42e",
   "metadata": {},
   "outputs": [],
   "source": []
  }
 ],
 "metadata": {
  "kernelspec": {
   "display_name": "Python 3 (ipykernel)",
   "language": "python",
   "name": "python3"
  },
  "language_info": {
   "codemirror_mode": {
    "name": "ipython",
    "version": 3
   },
   "file_extension": ".py",
   "mimetype": "text/x-python",
   "name": "python",
   "nbconvert_exporter": "python",
   "pygments_lexer": "ipython3",
   "version": "3.12.1"
  }
 },
 "nbformat": 4,
 "nbformat_minor": 5
}
